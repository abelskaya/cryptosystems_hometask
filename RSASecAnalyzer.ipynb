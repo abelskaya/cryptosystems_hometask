{
 "cells": [
  {
   "cell_type": "code",
   "execution_count": 1,
   "metadata": {},
   "outputs": [],
   "source": [
    "import math\n",
    "import random, sys"
   ]
  },
  {
   "cell_type": "markdown",
   "metadata": {},
   "source": [
    " "
   ]
  },
  {
   "cell_type": "markdown",
   "metadata": {},
   "source": [
    "Некоторые реализации вспомогательных функций, например rational_to_contfrac(x,y), а так же части алгоритма Винера были взяты отсюда:\n",
    "\n",
    "https://github.com/pablocelayes/rsa-wiener-attack\n",
    "\n",
    "Идея реализации p-метода Полларда была взята из статьи https://cyberleninka.ru/article/n/realizatsiya-metoda-faktorizatsii-pollarda-na-yazyke-c"
   ]
  },
  {
   "cell_type": "markdown",
   "metadata": {},
   "source": [
    " "
   ]
  },
  {
   "cell_type": "markdown",
   "metadata": {},
   "source": [
    "Вспомогательные функции"
   ]
  },
  {
   "cell_type": "code",
   "execution_count": 2,
   "metadata": {},
   "outputs": [],
   "source": [
    "def egcd(a,b):\n",
    "    '''\n",
    "    Расширенный алгоритм Евклида\n",
    "    Возвращает x, y, gcd(a,b) такие, что ax + by = gcd(a,b)\n",
    "    \n",
    "    Extended Euclidean Algorithm\n",
    "    returns x, y, gcd(a,b) such that ax + by = gcd(a,b)\n",
    "    '''\n",
    "    u, u1 = 1, 0\n",
    "    v, v1 = 0, 1\n",
    "    while b:\n",
    "        q = a // b\n",
    "        u, u1 = u1, u - q * u1\n",
    "        v, v1 = v1, v - q * v1\n",
    "        a, b = b, a - q * b\n",
    "    return u, v, a\n",
    "\n",
    "def gcd(a,b):\n",
    "\n",
    "    a,b = (b,a) if a<b else (a,b)\n",
    "    \n",
    "    while b:\n",
    "        a,b=b,a%b\n",
    "    return a\n",
    "\n",
    "def modInverse(e,n):\n",
    "    '''\n",
    "    Возвращает d: de = 1 (mod n)\n",
    "    e должно быть взаимно просто с n\n",
    "    \n",
    "    d such that de = 1 (mod n)\n",
    "    e must be coprime to n\n",
    "    '''\n",
    "    return egcd(e,n)[0]%n\n",
    "\n",
    "def totient(p,q):\n",
    "    '''\n",
    "    Calculates the totient of pq\n",
    "    '''\n",
    "    return (p-1)*(q-1)\n",
    "\n",
    "def bitlength(x):\n",
    "    '''\n",
    "    Calculates the bitlength of x\n",
    "    '''\n",
    "    assert x >= 0\n",
    "    n = 0\n",
    "    while x > 0:\n",
    "        n = n+1\n",
    "        x = x>>1\n",
    "    return n\n",
    "\n",
    "\n",
    "def isqrt(n):\n",
    "    '''\n",
    "    Calculates the integer square root\n",
    "    for arbitrary large nonnegative integers\n",
    "    '''\n",
    "    if n < 0:\n",
    "        raise ValueError('square root is not defined for negative numbers')\n",
    "    \n",
    "    if n == 0:\n",
    "        return 0\n",
    "    a, b = divmod(bitlength(n), 2)\n",
    "    x = 2**(a+b)\n",
    "    while True:\n",
    "        y = (x + n//x)//2\n",
    "        if y >= x:\n",
    "            return x\n",
    "        x = y\n",
    "\n",
    "\n",
    "def is_perfect_square(n):\n",
    "    '''\n",
    "    If n is a perfect square it returns sqrt(n),\n",
    "    \n",
    "    otherwise returns -1\n",
    "    '''\n",
    "    h = n & 0xF; #last hexadecimal \"digit\"\n",
    "    \n",
    "    if h > 9:\n",
    "        return -1 # return immediately in 6 cases out of 16.\n",
    "\n",
    "    # Take advantage of Boolean short-circuit evaluation\n",
    "    if ( h != 2 and h != 3 and h != 5 and h != 6 and h != 7 and h != 8 ):\n",
    "        # take square root if you must\n",
    "        t = isqrt(n)\n",
    "        if t*t == n:\n",
    "            return t\n",
    "        else:\n",
    "            return -1\n",
    "    \n",
    "    return -1"
   ]
  },
  {
   "cell_type": "code",
   "execution_count": 3,
   "metadata": {},
   "outputs": [],
   "source": [
    "def test_is_perfect_square():\n",
    "\n",
    "    testsuit = [4, 0, 15, 25, 18, 901, 1000, 1024]\n",
    "    \n",
    "    for n in testsuit:\n",
    "        print(\"Is \", n, \" a perfect square?\")\n",
    "        if is_perfect_square(n)!= -1:\n",
    "            print(\"Yes!\")\n",
    "        else:\n",
    "            print(\"Nope\")"
   ]
  },
  {
   "cell_type": "code",
   "execution_count": 4,
   "metadata": {},
   "outputs": [
    {
     "name": "stdout",
     "output_type": "stream",
     "text": [
      "Testing is_perfect_square\n",
      "Is  4  a perfect square?\n",
      "Yes!\n",
      "Is  0  a perfect square?\n",
      "Yes!\n",
      "Is  15  a perfect square?\n",
      "Nope\n",
      "Is  25  a perfect square?\n",
      "Yes!\n",
      "Is  18  a perfect square?\n",
      "Nope\n",
      "Is  901  a perfect square?\n",
      "Nope\n",
      "Is  1000  a perfect square?\n",
      "Nope\n",
      "Is  1024  a perfect square?\n",
      "Yes!\n"
     ]
    }
   ],
   "source": [
    "test_is_perfect_square()"
   ]
  },
  {
   "cell_type": "code",
   "execution_count": 5,
   "metadata": {},
   "outputs": [],
   "source": [
    "def rational_to_contfrac(x,y):\n",
    "    '''\n",
    "    Converts a rational x/y fraction into\n",
    "    a list of partial quotients [a0, ..., an]\n",
    "    '''\n",
    "    a = x//y\n",
    "    pquotients = [a]\n",
    "    while a * y != x:\n",
    "        x,y = y,x-a*y\n",
    "        a = x//y\n",
    "        pquotients.append(a)\n",
    "    return pquotients\n",
    "\n",
    "\n",
    "def convergents_from_contfrac(frac):\n",
    "    '''\n",
    "    computes the list of convergents\n",
    "    using the list of partial quotients\n",
    "    '''\n",
    "    convs = [];\n",
    "    for i in range(len(frac)):\n",
    "        convs.append(contfrac_to_rational(frac[0:i]))\n",
    "    return convs\n",
    "\n",
    "\n",
    "def contfrac_to_rational (frac):\n",
    "    '''Converts a finite continued fraction [a0, ..., an]\n",
    "     to an x/y rational.\n",
    "     '''\n",
    "    if len(frac) == 0:\n",
    "        return (0,1)\n",
    "    num = frac[-1]\n",
    "    denom = 1\n",
    "    for _ in range(-2,-len(frac)-1,-1):\n",
    "        num, denom = frac[_]*num+denom, num\n",
    "    return (num,denom)"
   ]
  },
  {
   "cell_type": "code",
   "execution_count": 6,
   "metadata": {},
   "outputs": [],
   "source": [
    "def test1():\n",
    "    '''\n",
    "    Verify that the basic continued-fraction manipulation stuff works.\n",
    "    '''\n",
    "    testnums = [(1, 1), (1, 2), (5, 15), (27, 73), (73, 27)]\n",
    "    for r in testnums:\n",
    "        (num, denom) = r\n",
    "        print('rational number:')\n",
    "        print(r)\n",
    "\n",
    "        contfrac = rational_to_contfrac (num, denom)\n",
    "        print('continued fraction:')\n",
    "        print(contfrac)\n",
    "\n",
    "        print('convergents:')\n",
    "        print(convergents_from_contfrac(contfrac))\n",
    "        print('***********************************')"
   ]
  },
  {
   "cell_type": "code",
   "execution_count": 7,
   "metadata": {},
   "outputs": [
    {
     "name": "stdout",
     "output_type": "stream",
     "text": [
      "rational number:\n",
      "(1, 1)\n",
      "continued fraction:\n",
      "[1]\n",
      "convergents:\n",
      "[(0, 1)]\n",
      "***********************************\n",
      "rational number:\n",
      "(1, 2)\n",
      "continued fraction:\n",
      "[0, 2]\n",
      "convergents:\n",
      "[(0, 1), (0, 1)]\n",
      "***********************************\n",
      "rational number:\n",
      "(5, 15)\n",
      "continued fraction:\n",
      "[0, 3]\n",
      "convergents:\n",
      "[(0, 1), (0, 1)]\n",
      "***********************************\n",
      "rational number:\n",
      "(27, 73)\n",
      "continued fraction:\n",
      "[0, 2, 1, 2, 2, 1, 2]\n",
      "convergents:\n",
      "[(0, 1), (0, 1), (1, 2), (1, 3), (3, 8), (7, 19), (10, 27)]\n",
      "***********************************\n",
      "rational number:\n",
      "(73, 27)\n",
      "continued fraction:\n",
      "[2, 1, 2, 2, 1, 2]\n",
      "convergents:\n",
      "[(0, 1), (2, 1), (3, 1), (8, 3), (19, 7), (27, 10)]\n",
      "***********************************\n"
     ]
    }
   ],
   "source": [
    "test1()"
   ]
  },
  {
   "cell_type": "markdown",
   "metadata": {},
   "source": [
    " "
   ]
  },
  {
   "cell_type": "markdown",
   "metadata": {},
   "source": [
    "Генерация простых чисел при помощи алгоритма Миллера-Рабина"
   ]
  },
  {
   "cell_type": "code",
   "execution_count": 8,
   "metadata": {},
   "outputs": [],
   "source": [
    "def miller_rabin_pass(a, s, d, n):\n",
    "    ''' \n",
    "    n is an odd number with\n",
    "    n-1 = (2^s)d, and d odd\n",
    "    and a is the base: 1 < a < n-1\n",
    "\n",
    "    returns True if n passes the MillerRabinTest for a \n",
    "    '''\n",
    "    a_to_power = pow(a, d, n)\n",
    "    i=0\n",
    "    #Invariant: a_to_power = a^(d*2^i) mod n\n",
    "    \n",
    "    # we test whether (a^d) = 1 mod n\n",
    "    if a_to_power == 1:\n",
    "        return True\n",
    "\n",
    "    # we test whether a^(d*2^i) = n-1 mod for 0<=i<=s-1\n",
    "    while(i < s-1):\n",
    "        if a_to_power == n - 1:\n",
    "            return True\n",
    "        a_to_power = (a_to_power * a_to_power) % n\n",
    "        i+=1\n",
    "\n",
    "    # we reach here if the test failed until i=s-2\n",
    "    return a_to_power == n - 1\n",
    "\n",
    "\n",
    "def miller_rabin(n):\n",
    "    '''\n",
    "    Applies the MillerRabin Test to n (odd)\n",
    "\n",
    "    returns True iff n passes the MillerRabinTest for K random bases\n",
    "    '''\n",
    "    #Compute s and d such that n-1 = (2^s)d, with d odd\n",
    "    d = n-1\n",
    "    s = 0\n",
    "    while d%2 == 0:\n",
    "        d >>= 1\n",
    "        s+=1\n",
    "\n",
    "    #Applies the test K times\n",
    "    #The probability of a false positive is less than (1/4)^K\n",
    "    K = 20\n",
    "\n",
    "    i=1\n",
    "    while(i<=K):\n",
    "    # 1 < a < n-1\n",
    "        a = random.randrange(2,n-1)\n",
    "        if not miller_rabin_pass(a, s, d, n):\n",
    "            return False\n",
    "        i += 1\n",
    "\n",
    "    return True\n",
    "\n",
    "\n",
    "def gen_prime(nbits):\n",
    "    '''\n",
    "    Generates a prime of b bits using the\n",
    "    miller_rabin_test\n",
    "    '''\n",
    "    while True:\n",
    "        p = random.getrandbits(nbits)\n",
    "        #force p to have nbits and be odd\n",
    "        p |= 2**nbits | 1\n",
    "        if miller_rabin(p):\n",
    "            return p\n",
    "            break\n",
    "\n",
    "def gen_prime_range(start, stop):\n",
    "    '''\n",
    "    Generates a prime within the given range\n",
    "    using the miller_rabin_test\n",
    "    '''\n",
    "    while True:\n",
    "        p = random.randrange(start,stop-1)\n",
    "        p |= 1\n",
    "        if miller_rabin(p):\n",
    "            return p\n",
    "            break"
   ]
  },
  {
   "cell_type": "code",
   "execution_count": 9,
   "metadata": {},
   "outputs": [],
   "source": [
    "def test_MR(name, n):\n",
    "    \n",
    "    if name == \"test\":\n",
    "        print (miller_rabin(n) and \"PRIME\" or \"COMPOSITE\")\n",
    "    elif name == \"genprime\":\n",
    "        nbits = int(n)\n",
    "        print(gen_prime(nbits))"
   ]
  },
  {
   "cell_type": "code",
   "execution_count": 10,
   "metadata": {},
   "outputs": [
    {
     "name": "stdout",
     "output_type": "stream",
     "text": [
      "PRIME\n"
     ]
    }
   ],
   "source": [
    "test_MR('test', 1669)"
   ]
  },
  {
   "cell_type": "code",
   "execution_count": 12,
   "metadata": {},
   "outputs": [
    {
     "name": "stdout",
     "output_type": "stream",
     "text": [
      "COMPOSITE\n"
     ]
    }
   ],
   "source": [
    "test_MR('test', 2002)"
   ]
  },
  {
   "cell_type": "code",
   "execution_count": 11,
   "metadata": {},
   "outputs": [
    {
     "name": "stdout",
     "output_type": "stream",
     "text": [
      "1485378020270680624625363557430696679376946752204920726593074627036058520796480339603575122958022816417941424453102689014201227445918007516903159419521092910169466505898022558661603640128512594763003730081764307803776715008870826706213220321390615973595625777904595609527276884692029820892334511566467986467865675663732840826595471696042680819256115652509614426244020155646405907917083835363744701572944653590479679186702523908099941319049541903350246272717214293452570398150777636383656695241079483080449400622573702698669141780732355228549045426532917108583584833399761994956103697\n"
     ]
    }
   ],
   "source": [
    "test_MR('genprime', 1933)"
   ]
  },
  {
   "cell_type": "markdown",
   "metadata": {},
   "source": [
    "Генерация ключей"
   ]
  },
  {
   "cell_type": "code",
   "execution_count": 34,
   "metadata": {},
   "outputs": [],
   "source": [
    "def getPrimePair(bits=512):\n",
    "\n",
    "    assert bits%4==0\n",
    "    \n",
    "    p = gen_prime(bits)\n",
    "    q = gen_prime_range(p+1, 2*p)\n",
    "    \n",
    "    return p,q\n",
    "\n",
    "def generateKeys(nbits=1024):\n",
    "    '''\n",
    "    Generates a key pair\n",
    "        public = (e,n)\n",
    "        private = d \n",
    "    such that\n",
    "        n is nbits long\n",
    "    '''\n",
    "    # nbits >= 1024 is recommended\n",
    "    assert nbits%4==0\n",
    "    \n",
    "    p,q = getPrimePair(nbits//2)\n",
    "    n = p*q\n",
    "    phi = totient(p, q)\n",
    "        \n",
    "    # generate a d such that:\n",
    "    #     (d,n) = 1\n",
    "    good_d = False\n",
    "    while not good_d:\n",
    "        d = random.getrandbits(nbits//4)\n",
    "        if (gcd(d,phi) == 1):\n",
    "            good_d = True\n",
    "                    \n",
    "    e = modInverse(d,phi)\n",
    "    return e,n,d"
   ]
  },
  {
   "cell_type": "code",
   "execution_count": 37,
   "metadata": {},
   "outputs": [],
   "source": [
    "def testkeys():\n",
    "    \n",
    "    for i in range(5):\n",
    "        e,n,d = generateKeys()\n",
    "        print (\"Public key:\")\n",
    "        print(\"e =\")\n",
    "        print(e)\n",
    "        print(\"n =\")\n",
    "        print(n)\n",
    "        print (\"Private key:\")\n",
    "        print(\"d =\")\n",
    "        print(d)\n",
    "        print(\"-----------------------\")"
   ]
  },
  {
   "cell_type": "code",
   "execution_count": 38,
   "metadata": {},
   "outputs": [
    {
     "name": "stdout",
     "output_type": "stream",
     "text": [
      "Public key:\n",
      "e =\n",
      "295194298337628501400653233653165369178603099381624520730714550020639300776780028649521638928268552539677526769077583715860995599045381413359918427744911386533943047269095568786516935085871624189640862063476481735185237949041784244304492196669467322742098182791126998665366427038272002500113178446203896889553\n",
      "n =\n",
      "1273728618462068819198768588537171353485617033157968977013455260145085699072797552810495895105390287831586321604155776977300932909060787209240776451314371835342769252885267107251070086478315226863015872166430312483292227872126368396126915885787160335954208239387877105267550374525729865792368287302611494430333\n",
      "Private key:\n",
      "d =\n",
      "59176897491292277193133700296376371239087836714728285272643217028237134730689\n",
      "-----------------------\n",
      "Public key:\n",
      "e =\n",
      "304224809915483690809913215422898094817133926715869799449947924770121610720479366834427345365911514820290072643275248195989963538233764344111760306810702669103426656354266865266164143471858709195089389068724754419290265092915628832160431093532321892206871336455291622105144335980727985701434623824561684882101\n",
      "n =\n",
      "344681098169689809877328255607214653418456843636828691708842016116590684077537760243333209716994725517368756924346487153663350271074921653614722527351284026240428873705637760467558539487504010156520144526639146363149654181161939336084813758632296916783986194814432543327640452565781390570173496935783987662811\n",
      "Private key:\n",
      "d =\n",
      "46414882375927478263360412417692281532956767584826599529188493616313919703901\n",
      "-----------------------\n",
      "Public key:\n",
      "e =\n",
      "214298832407737749819477554024148342333170040596055208857069239437255860723235818170738902766958235601031201919260542538501869153323885597876338661235376604903842675364552381251610256317609796803336887403809831895243739962456828648562206088459603919871545667482623818036761531848829733280415549932365692059843\n",
      "n =\n",
      "313076197065642646196418832249062198886050278814349256329396370013360502364066398711974065636796613605180915458594135891558037358824077894836965484142608550783582800512476342707117631649656912041107291639320084370922002157884176208856153362155299077997682075472811864806648431415983507311941993557622141543763\n",
      "Private key:\n",
      "d =\n",
      "18077206649001069758468875070028310982771068043714261045886874888996055601467\n",
      "-----------------------\n",
      "Public key:\n",
      "e =\n",
      "128343778320350472515541516391672351238095543419985519659920534127949164961064298273338886863582129127780067872328874958191520572088368395337245828952872500284338616116159215391137649541586073226456271907310991520888889206313902031720581935032544410939912605480621893646032357185836096151117419165020033755821\n",
      "n =\n",
      "683755156076136719853044594711779216090365487163398643391335000708990379252994175440360285953050970285015629882319233286467818121356144300821368711682743337116738716151075071241378082345934430082331396903590189047855212504329240232894849969176561865023301318312973719817651919598331781143348055124228902058097\n",
      "Private key:\n",
      "d =\n",
      "99242279996855182285660006302256646033282532490868971134171015417659554725121\n",
      "-----------------------\n",
      "Public key:\n",
      "e =\n",
      "413694602655353194208022621416075203585479791683222142555795709291971533425394105758559206030212537448685623645693443970058859355957574961079874481294453981543867980592510349359801106005131299066194423922987741589930244377971252505996533870814983309178867307021012915843676377685612710406567584573930535551311\n",
      "n =\n",
      "741813261554693754377088810352738140547722724908371971908344691010738229260797008465647160062299560294772405155834734866829294768390859493532489973195255488285958209149670880445018973842060423179714805193815612608828371544133639796667296546844499397326566396251937331561396909012382235852007097400536976503297\n",
      "Private key:\n",
      "d =\n",
      "6819164352052187880925015254077990830303074400841191633031048051408035762291\n",
      "-----------------------\n"
     ]
    }
   ],
   "source": [
    "testkeys()"
   ]
  },
  {
   "cell_type": "markdown",
   "metadata": {},
   "source": [
    "### Реализация атак"
   ]
  },
  {
   "cell_type": "markdown",
   "metadata": {},
   "source": [
    "Атака факторизации модуля p-методом Полларда"
   ]
  },
  {
   "cell_type": "code",
   "execution_count": 26,
   "metadata": {},
   "outputs": [],
   "source": [
    "def p_Pollard(n : int, x : int, y : int, stage : int, i : int): \n",
    "    \n",
    "    if math.gcd(n, abs(x - y)) == 1:\n",
    "        if i == stage:\n",
    "            return p_Pollard(n, (x*x+1)%n, x, stage*2, i+1)\n",
    "#         print(p_Pollard(n, (x*x+1)%n, y, stage, i+1))\n",
    "        return p_Pollard(n, (x*x+1)%n, y, stage, i+1)\n",
    "    else:\n",
    "#         print(math.gcd(n, abs(x-y)))\n",
    "        return math.gcd(n, abs(x-y))"
   ]
  },
  {
   "cell_type": "code",
   "execution_count": 23,
   "metadata": {},
   "outputs": [],
   "source": [
    "def test_pPollard(N):\n",
    "    \n",
    "    n = N\n",
    "    x = random.randint(1, N-2)\n",
    "    y = 1\n",
    "    i = 0\n",
    "    stage = 2\n",
    "    \n",
    "    p_Pollard(n, x, y, stage, i)"
   ]
  },
  {
   "cell_type": "code",
   "execution_count": 27,
   "metadata": {},
   "outputs": [
    {
     "name": "stdout",
     "output_type": "stream",
     "text": [
      "3\n",
      "3\n",
      "3\n"
     ]
    }
   ],
   "source": [
    "test_pPollard(39)"
   ]
  },
  {
   "cell_type": "markdown",
   "metadata": {},
   "source": [
    "Атака факторизации модуля (p-1)-методом Полларда. "
   ]
  },
  {
   "cell_type": "code",
   "execution_count": null,
   "metadata": {},
   "outputs": [],
   "source": [
    "Простые числа p и q в системе RSA\n",
    "необходимо также выбирать, исходя из тех соображений, чтобы p±1, q±1 имели по крайней\n",
    "мере один простой делитель, больший 1020, в противном случае p можно эффективно найти,\n",
    "используя (p-1)-алгоритм Полларда.\n",
    "Пусть N > 1 составное число. Следующий алгоритм с некоторой вероятностью\n",
    "возвращает нетривиальный делитель N.\n",
    "1. Случайно выбрать а Є Zn. Выбрать положительное целое k=НОК(1,2, …, B),\n",
    "для соответствующей границы B.\n",
    "2. Вычислить ak≡a\n",
    "k\n",
    "(mod N).\n",
    "3. Вычислить f=НОД(ak-1,N).\n",
    "4. Если 1<f<N, то f – делитель N, вывести f и перейти к шагу 6.\n",
    "5. Иначе перейти к шагу 2 и выбрать новое a и k.\n",
    "6. Завершить алгоритм.\n"
   ]
  },
  {
   "cell_type": "code",
   "execution_count": null,
   "metadata": {},
   "outputs": [],
   "source": [
    "template <class T>\n",
    "T pollard_p_1 (T n)\n",
    "{\n",
    "\t// параметры алгоритма, существенно влияют на производительность и качество поиска\n",
    "\tconst T b = 13;\n",
    "\tconst T q[] = { 2, 3, 5, 7, 11, 13 };\n",
    "\n",
    "\t// несколько попыток алгоритма\n",
    "\tT a = 5 % n;\n",
    "\tfor (int j=0; j<10; j++)\n",
    "\t{\n",
    "\n",
    "\t\t// ищем такое a, которое взаимно просто с n\n",
    "\t\twhile (gcd (a, n) != 1)\n",
    "\t\t{\n",
    "\t\t\tmulmod (a, a, n);\n",
    "\t\t\ta += 3;\n",
    "\t\t\ta %= n;\n",
    "\t\t}\n",
    "\n",
    "\t\t// вычисляем a^M\n",
    "\t\tfor (size_t i = 0; i < sizeof q / sizeof q[0]; i++)\n",
    "\t\t{\n",
    "\t\t\tT qq = q[i];\n",
    "\t\t\tT e = (T) floor (log ((double)b) / log ((double)qq));\n",
    "\t\t\tT aa = powmod (a, powmod (qq, e, n), n);\n",
    "\t\t\tif (aa == 0)\n",
    "\t\t\t\tcontinue;\n",
    "\t\t\t\n",
    "\t\t\t// проверяем, не найден ли ответ\n",
    "\t\t\tT g = gcd (aa-1, n);\n",
    "\t\t\tif (1 < g && g < n)\n",
    "\t\t\t\treturn g;\n",
    "\t\t}\n",
    "\n",
    "\t}\n",
    "\n",
    "\t// если ничего не нашли\n",
    "\treturn 1;\n",
    "\n",
    "}"
   ]
  },
  {
   "cell_type": "code",
   "execution_count": null,
   "metadata": {},
   "outputs": [],
   "source": [
    "def lcm(a, b):\n",
    "    return (a * b) // math.gcd(a, b)\n",
    "\n",
    "def point2()\n",
    "\n",
    "def pmin1_Pollard():\n",
    "    \n",
    "    k = 1\n",
    "    for i in range(1,B):\n",
    "        k = lcm(k,i)\n",
    "    \n",
    "    a_k = \n",
    "    \n",
    "    f = math.gcd(a_k-1, N)\n",
    "    \n",
    "    if f>1 and f<N:\n",
    "        return f\n",
    "    else:\n",
    "        point2() # ?\n",
    "    \n",
    "\n",
    "    "
   ]
  },
  {
   "cell_type": "markdown",
   "metadata": {},
   "source": [
    "Атака Винера"
   ]
  },
  {
   "cell_type": "code",
   "execution_count": 28,
   "metadata": {},
   "outputs": [],
   "source": [
    "def hack_RSA(e,n):\n",
    "    '''\n",
    "    Finds d knowing (e,n)\n",
    "    applying the Wiener continued fraction attack\n",
    "    '''\n",
    "    frac = rational_to_contfrac(e, n)\n",
    "    convergents = convergents_from_contfrac(frac)\n",
    "    \n",
    "    for (k,d) in convergents:\n",
    "        \n",
    "        #check if d is actually the key\n",
    "        if k!=0 and (e*d-1)%k == 0:\n",
    "            phi = (e*d-1)//k\n",
    "            s = n - phi + 1\n",
    "            # check if the equation x^2 - s*x + n = 0 has integer roots\n",
    "            discr = s*s - 4*n\n",
    "            if(discr>=0):\n",
    "                t = is_perfect_square(discr)\n",
    "                if t!=-1 and (s+t)%2==0:\n",
    "                    print(\"Successfully hacked with Wiener attack!\")\n",
    "                    return d"
   ]
  },
  {
   "cell_type": "code",
   "execution_count": null,
   "metadata": {},
   "outputs": [],
   "source": [
    "'''\n",
    "Created on Dec 14, 2011\n",
    "@author: pablocelayes\n",
    "'''\n",
    "\n",
    "#!/usr/bin/python\n",
    "# -*- coding: utf-8 -*-\n",
    "\"\"\"\\\n",
    "This module generates RSA-keys which are vulnerable to\n",
    "the Wiener continued fraction attack\n",
    "(see RSAfracCont.pdf)\n",
    "The RSA keys are obtained as follows:\n",
    "1. Choose two prime numbers p and q\n",
    "2. Compute n=pq\n",
    "3. Compute phi(n)=(p-1)(q-1)\n",
    "4. Choose e coprime to phi(n) such that gcd(e,n)=1\n",
    "5. Compute d = e^(-1) mod (phi(n))\n",
    "6. e is the publickey; n is also made public (determines the block size); d is the privatekey\n",
    "Encryption is as follows:\n",
    "1. Size of data to be encrypted must be less than n\n",
    "2. ciphertext=pow(plaintext,publickey,n)\n",
    "Decryption is as follows:\n",
    "1. Size of data to be decrypted must be less than n\n",
    "2. plaintext=pow(ciphertext,privatekey,n)\n",
    "-------------------------------\n",
    "RSA-keys are Wiener-vulnerable if d < (n^(1/4))/sqrt(6)\n",
    "\"\"\""
   ]
  },
  {
   "cell_type": "code",
   "execution_count": 39,
   "metadata": {},
   "outputs": [],
   "source": [
    "def test_hack_RSA():\n",
    "    print(\"Testing Wiener Attack\")\n",
    "    times = 5\n",
    "    \n",
    "    while(times>0):\n",
    "        e,n,d = generateKeys(1024)\n",
    "        print(\"(e,n) is (\", e, \", \", n, \")\")\n",
    "        print(\"d = \", d)\n",
    "    \n",
    "        hacked_d = hack_RSA(e, n)\n",
    "    \n",
    "        if d == hacked_d:\n",
    "            print(\"Hack WORKED!\")\n",
    "        else:\n",
    "            print(\"Hack FAILED\")\n",
    "        \n",
    "        print(\"d = \", d, \", hacked_d = \", hacked_d)\n",
    "        print(\"-------------------------\")\n",
    "        times -= 1"
   ]
  },
  {
   "cell_type": "code",
   "execution_count": 40,
   "metadata": {},
   "outputs": [
    {
     "name": "stdout",
     "output_type": "stream",
     "text": [
      "Testing Wiener Attack\n",
      "(e,n) is ( 23212386923349889732950970438943004476807044515002255950906251322942193651138296200960186615227173687114819283470602328812549981232915400770350153177355225267464592992063753419741613464988190570150755997300402155204703121899375149449051218000942046889969609096151427992751145613079577041694167007578689571849 ,  379059366269973633023827533291422461291244224364587758590599563838657447189265245559723424565073103869615945830612567053320077536635140375344466823123429561688550974790675891063722717947003788560361030227865087085843684990666275790200425240027060650200438308023211970691135881768509470144878807202711697140753 )\n",
      "d =  31166425529010883437887981752432122128872310147355145785619038844242340746041\n",
      "Successfully hacked with Wiener attack!\n",
      "Hack WORKED!\n",
      "d =  31166425529010883437887981752432122128872310147355145785619038844242340746041 , hacked_d =  31166425529010883437887981752432122128872310147355145785619038844242340746041\n",
      "-------------------------\n",
      "(e,n) is ( 53632214111210135178180750258746602093829932872539028877719852222015934407904892929576522844555059757582496918416253746422489833816172460508203947220994214148107222855728753381054327154448373592098442797088438760874898738150447827646581726976302194224093608397581122536172314306436918364769649348333568314953 ,  341935536371160891646795879531173626949512634770572507269804158591719176707575528474642744823593288474838197354546850830848777683775866913292859231328708975826298556839572062038786249587867086790151483724566390734869508739982776950042023169655253701447635353294243555943672229240605423005026133945457401996637 )\n",
      "d =  85695218988066869955574821070408486885164362144190967084986919214452919529337\n",
      "Successfully hacked with Wiener attack!\n",
      "Hack WORKED!\n",
      "d =  85695218988066869955574821070408486885164362144190967084986919214452919529337 , hacked_d =  85695218988066869955574821070408486885164362144190967084986919214452919529337\n",
      "-------------------------\n",
      "(e,n) is ( 520703492487881989080591252593373616367792684462179881018478243225764212674973541744068897007718461742144840328947889803067680831995736839027264866645332876859409522035221015892588366560638587488818723254170175044404744362636479954787711834405394392294090563002220616465483062767696966153987811876447781498339 ,  639066054494467006499498091312215158806960721140598810203137121559679858595661856774333534591117666283371626986805490697064454460900728548561097390195376027052366972322400843313331394221171020386379790804077241495605232633225910560761757498245144944687820298283294266989974570356829517170564224741724046401019 )\n",
      "d =  90889655853223719927675805177935230261708018310859069467096822709285753119059\n",
      "Successfully hacked with Wiener attack!\n",
      "Hack WORKED!\n",
      "d =  90889655853223719927675805177935230261708018310859069467096822709285753119059 , hacked_d =  90889655853223719927675805177935230261708018310859069467096822709285753119059\n",
      "-------------------------\n",
      "(e,n) is ( 169727218426408653811981622435394753193991176335801631081259819600771619424321985680523903893600843396568763485691696050075507115127699309432381456408372006213520960344676106067884763781685226081432070864014004406748265345673897301897068819003206661942979357874738930488905979307711872037668042747459406105395 ,  571751054207837163377399687190553139244104905297126806908266740818676452207996353083099063075683681754817932979663535246199849657925747601160940913370030026710181201671796864210840719942923677837240418754354738147693226808750490803822639578476484235136098233838961446686691709566123896839853350330854635709157 )\n",
      "d =  53705363175518551861923919179998435896812828682020356537135892902436553857851\n",
      "Successfully hacked with Wiener attack!\n",
      "Hack WORKED!\n",
      "d =  53705363175518551861923919179998435896812828682020356537135892902436553857851 , hacked_d =  53705363175518551861923919179998435896812828682020356537135892902436553857851\n",
      "-------------------------\n",
      "(e,n) is ( 939036689889069901149366432368351224869085518143288901463348402800345627015518575486837690566056356731862485276136837012004069568312159912623934900886798503903316700775270630053724505858101099162531903543846095793033578351603525614923932902359575759125969862235537864856258978675568649837360079369627721506263 ,  1019522485581216516547351130476467353042606783562032516986363989762221621884652846173143716767492655531950098749975419248749518661169906419481786275199789203406565849997309513557701601372910658389142637428462429787915053357330396675040299085565935252252405605504623022478324135022328077236502032800456892575469 )\n",
      "d =  101733697934897233338432945738183402283208053660682299470351721083663680509063\n",
      "Successfully hacked with Wiener attack!\n",
      "Hack WORKED!\n",
      "d =  101733697934897233338432945738183402283208053660682299470351721083663680509063 , hacked_d =  101733697934897233338432945738183402283208053660682299470351721083663680509063\n",
      "-------------------------\n"
     ]
    }
   ],
   "source": [
    "test_hack_RSA()"
   ]
  },
  {
   "cell_type": "code",
   "execution_count": null,
   "metadata": {},
   "outputs": [],
   "source": []
  }
 ],
 "metadata": {
  "kernelspec": {
   "display_name": "Python 3",
   "language": "python",
   "name": "python3"
  },
  "language_info": {
   "codemirror_mode": {
    "name": "ipython",
    "version": 3
   },
   "file_extension": ".py",
   "mimetype": "text/x-python",
   "name": "python",
   "nbconvert_exporter": "python",
   "pygments_lexer": "ipython3",
   "version": "3.7.3"
  }
 },
 "nbformat": 4,
 "nbformat_minor": 2
}
