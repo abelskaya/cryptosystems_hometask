{
 "cells": [
  {
   "cell_type": "markdown",
   "metadata": {},
   "source": [
    "# Задание\n",
    "\n",
    "Требуется спроектировать и реализовать систему защиты паролей при их хранении в записных книжках или блокнотах."
   ]
  },
  {
   "cell_type": "markdown",
   "metadata": {},
   "source": [
    " "
   ]
  },
  {
   "cell_type": "code",
   "execution_count": 4,
   "metadata": {},
   "outputs": [],
   "source": [
    "import math\n",
    "import random, sys"
   ]
  },
  {
   "cell_type": "markdown",
   "metadata": {},
   "source": [
    " "
   ]
  },
  {
   "cell_type": "markdown",
   "metadata": {},
   "source": [
    "Вспомогательные функции"
   ]
  },
  {
   "cell_type": "code",
   "execution_count": 16,
   "metadata": {},
   "outputs": [],
   "source": [
    "def egcd(a,b):\n",
    "    '''\n",
    "    Расширенный алгоритм Евклида\n",
    "    Возвращает x, y, gcd(a,b) такие, что ax + by = gcd(a,b)\n",
    "    '''\n",
    "    u, u1 = 1, 0\n",
    "    v, v1 = 0, 1\n",
    "    while b:\n",
    "        q = a // b\n",
    "        u, u1 = u1, u - q * u1\n",
    "        v, v1 = v1, v - q * v1\n",
    "        a, b = b, a - q * b\n",
    "    return u, v, a\n",
    "\n",
    "def gcd(a,b):\n",
    "    '''\n",
    "    Работает быстрее, чем стандартный gcd\n",
    "    '''\n",
    "    a,b = (b,a) if a<b else (a,b)\n",
    "    \n",
    "    while b:\n",
    "        a,b=b,a%b\n",
    "    return a\n",
    "\n",
    "def lcm(a, b):\n",
    "    '''\n",
    "    Подсчёт НОК\n",
    "    '''\n",
    "    return (a * b) // math.gcd(a, b)\n",
    "\n",
    "def modInverse(e,n):\n",
    "    '''\n",
    "    Возвращает d: de = 1 (mod n)\n",
    "    e должно быть взаимно просто с n\n",
    "    '''\n",
    "    return egcd(e,n)[0]%n\n",
    "\n",
    "def simplenum(n):\n",
    "\n",
    "    if n % 2 == 0:\n",
    "        return n == 2\n",
    "    d = 3\n",
    "    while d * d <= n and n % d != 0:\n",
    "        d += 2\n",
    "    return d * d > n\n",
    "\n",
    "\n",
    "def totient(p,q):\n",
    "    \n",
    "    return (p-1)*(q-1)\n",
    "\n",
    "def bitlength(x):\n",
    "    '''\n",
    "    Вычисление битовой длины x\n",
    "    '''\n",
    "    assert x >= 0\n",
    "    n = 0\n",
    "    while x > 0:\n",
    "        n = n+1\n",
    "        x = x>>1\n",
    "    return n\n",
    "\n",
    "\n",
    "def sieve(n: int) -> list:\n",
    "    \"\"\"\n",
    "    Sieve away and only primes are left.\n",
    "    \"\"\"\n",
    "    primes = 2*[False] + (n-1)*[True]\n",
    "    for i in range(2, int(n**0.5+1.5)):\n",
    "        for j in range(i*i, n+1, i):\n",
    "            primes[j] = False\n",
    "    return [prime for prime, checked in enumerate(primes) if checked]\n",
    "\n",
    "\n",
    "def isqrt(n):\n",
    "\n",
    "    if n < 0:\n",
    "        raise ValueError('Квадратный корень не вычисляется для отрицательных чисел')\n",
    "    \n",
    "    if n == 0:\n",
    "        return 0\n",
    "    a, b = divmod(bitlength(n), 2)\n",
    "    x = 2**(a+b)\n",
    "    while True:\n",
    "        y = (x + n//x)//2\n",
    "        if y >= x:\n",
    "            return x\n",
    "        x = y\n",
    "\n",
    "\n",
    "def is_perfect_square(n):\n",
    "    '''\n",
    "    Возвращает квадратный корень, если число -- полный квадрат, \n",
    "    и -1 -- в противном случае\n",
    "    '''\n",
    "    h = n & 0xF; \n",
    "    \n",
    "    if h > 9:\n",
    "        return -1 \n",
    "\n",
    "    if ( h != 2 and h != 3 and h != 5 and h != 6 and h != 7 and h != 8 ):\n",
    "        \n",
    "        t = isqrt(n)\n",
    "        if t*t == n:\n",
    "            return t\n",
    "        else:\n",
    "            return -1\n",
    "    \n",
    "    return -1\n",
    "\n",
    "\n",
    "def rational_to_contfrac(x,y):\n",
    "    '''\n",
    "    Converts a rational x/y fraction into\n",
    "    a list of partial quotients [a0, ..., an]\n",
    "    '''\n",
    "    a = x//y\n",
    "    pquotients = [a]\n",
    "    while a * y != x:\n",
    "        x,y = y,x-a*y\n",
    "        a = x//y\n",
    "        pquotients.append(a)\n",
    "    return pquotients\n",
    "\n",
    "\n",
    "def convergents_from_contfrac(frac):\n",
    "    '''\n",
    "    computes the list of convergents\n",
    "    using the list of partial quotients\n",
    "    '''\n",
    "    convs = [];\n",
    "    for i in range(len(frac)):\n",
    "        convs.append(contfrac_to_rational(frac[0:i]))\n",
    "    return convs\n",
    "\n",
    "\n",
    "def contfrac_to_rational (frac):\n",
    "    '''Converts a finite continued fraction [a0, ..., an]\n",
    "     to an x/y rational.\n",
    "     '''\n",
    "    if len(frac) == 0:\n",
    "        return (0,1)\n",
    "    num = frac[-1]\n",
    "    denom = 1\n",
    "    for _ in range(-2,-len(frac)-1,-1):\n",
    "        num, denom = frac[_]*num+denom, num\n",
    "    return (num,denom)"
   ]
  },
  {
   "cell_type": "code",
   "execution_count": 6,
   "metadata": {},
   "outputs": [],
   "source": [
    "def test1():\n",
    "\n",
    "    testnums = [(1, 1), (1, 2), (5, 15), (27, 73), (73, 27)]\n",
    "    for r in testnums:\n",
    "        (num, denom) = r\n",
    "        print('rational number:')\n",
    "        print(r)\n",
    "\n",
    "        contfrac = rational_to_contfrac (num, denom)\n",
    "        print('continued fraction:')\n",
    "        print(contfrac)\n",
    "\n",
    "        print('convergents:')\n",
    "        print(convergents_from_contfrac(contfrac))\n",
    "        print('***********************************')"
   ]
  },
  {
   "cell_type": "code",
   "execution_count": 7,
   "metadata": {},
   "outputs": [
    {
     "name": "stdout",
     "output_type": "stream",
     "text": [
      "rational number:\n",
      "(1, 1)\n",
      "continued fraction:\n",
      "[1]\n",
      "convergents:\n",
      "[(0, 1)]\n",
      "***********************************\n",
      "rational number:\n",
      "(1, 2)\n",
      "continued fraction:\n",
      "[0, 2]\n",
      "convergents:\n",
      "[(0, 1), (0, 1)]\n",
      "***********************************\n",
      "rational number:\n",
      "(5, 15)\n",
      "continued fraction:\n",
      "[0, 3]\n",
      "convergents:\n",
      "[(0, 1), (0, 1)]\n",
      "***********************************\n",
      "rational number:\n",
      "(27, 73)\n",
      "continued fraction:\n",
      "[0, 2, 1, 2, 2, 1, 2]\n",
      "convergents:\n",
      "[(0, 1), (0, 1), (1, 2), (1, 3), (3, 8), (7, 19), (10, 27)]\n",
      "***********************************\n",
      "rational number:\n",
      "(73, 27)\n",
      "continued fraction:\n",
      "[2, 1, 2, 2, 1, 2]\n",
      "convergents:\n",
      "[(0, 1), (2, 1), (3, 1), (8, 3), (19, 7), (27, 10)]\n",
      "***********************************\n"
     ]
    }
   ],
   "source": [
    "test1()"
   ]
  },
  {
   "cell_type": "markdown",
   "metadata": {},
   "source": [
    " "
   ]
  },
  {
   "cell_type": "markdown",
   "metadata": {},
   "source": [
    "Генерация простых чисел при помощи алгоритма Миллера-Рабина\n",
    "\n",
    "https://python.su/forum/topic/12364/?page=2#post-77081v"
   ]
  },
  {
   "cell_type": "code",
   "execution_count": 8,
   "metadata": {},
   "outputs": [],
   "source": [
    "def miller_rabin_pass(a, s, d, n):\n",
    "\n",
    "    a_to_power = pow(a, d, n)\n",
    "    i=0\n",
    "    #Invariant: a_to_power = a^(d*2^i) mod n\n",
    "    \n",
    "    # we test whether (a^d) = 1 mod n\n",
    "    if a_to_power == 1:\n",
    "        return True\n",
    "\n",
    "    # we test whether a^(d*2^i) = n-1 mod for 0<=i<=s-1\n",
    "    while(i < s-1):\n",
    "        if a_to_power == n - 1:\n",
    "            return True\n",
    "        a_to_power = (a_to_power * a_to_power) % n\n",
    "        i+=1\n",
    "\n",
    "    # we reach here if the test failed until i=s-2\n",
    "    return a_to_power == n - 1\n",
    "\n",
    "\n",
    "def miller_rabin(n):\n",
    "\n",
    "    #Compute s and d such that n-1 = (2^s)d, with d odd\n",
    "    d = n-1\n",
    "    s = 0\n",
    "    while d%2 == 0:\n",
    "        d >>= 1\n",
    "        s+=1\n",
    "\n",
    "    #Applies the test K times\n",
    "    #The probability of a false positive is less than (1/4)^K\n",
    "    K = 20\n",
    "\n",
    "    i=1\n",
    "    while(i<=K):\n",
    "    # 1 < a < n-1\n",
    "        a = random.randrange(2,n-1)\n",
    "        if not miller_rabin_pass(a, s, d, n):\n",
    "            return False\n",
    "        i += 1\n",
    "\n",
    "    return True\n",
    "\n",
    "\n",
    "def gen_prime(nbits):\n",
    "\n",
    "    while True:\n",
    "        p = random.getrandbits(nbits)\n",
    "        #force p to have nbits and be odd\n",
    "        p |= 2**nbits | 1\n",
    "        if miller_rabin(p):\n",
    "            return p\n",
    "            break\n",
    "\n",
    "def gen_prime_range(start, stop):\n",
    "\n",
    "    while True:\n",
    "        p = random.randrange(start,stop-1)\n",
    "        p |= 1\n",
    "        if miller_rabin(p):\n",
    "            return p\n",
    "            break\n",
    "            \n",
    "def test_MR(name, n):\n",
    "    \n",
    "    if name == \"test\":\n",
    "        print (miller_rabin(n) and \"PRIME\" or \"COMPOSITE\")\n",
    "    elif name == \"genprime\":\n",
    "        nbits = int(n)\n",
    "        print(gen_prime(nbits))"
   ]
  },
  {
   "cell_type": "code",
   "execution_count": 9,
   "metadata": {},
   "outputs": [
    {
     "name": "stdout",
     "output_type": "stream",
     "text": [
      "PRIME\n"
     ]
    }
   ],
   "source": [
    "test_MR('test', 1669)"
   ]
  },
  {
   "cell_type": "code",
   "execution_count": 10,
   "metadata": {},
   "outputs": [
    {
     "name": "stdout",
     "output_type": "stream",
     "text": [
      "COMPOSITE\n"
     ]
    }
   ],
   "source": [
    "test_MR('test', 2002)"
   ]
  },
  {
   "cell_type": "code",
   "execution_count": 11,
   "metadata": {},
   "outputs": [
    {
     "name": "stdout",
     "output_type": "stream",
     "text": [
      "1526994787345928807504693635272154451275872618337929898035835779697973374876004765913317462343283157621368737570007451722856062025353314869490426138340314529645057301213852602577678015677847598344297448153388743865117967388498863403638125673305250195476534906111913723765587055857888734964281098764575737271476706858972628138722692267574403253784742184932853700905019130272189388131699577492205651164547617646509509783024924591194230309423887995386404395315705227261935533507273130376156082960754337324022903660571988887468981148782119493936666246825389856089085923378573124645024307\n"
     ]
    }
   ],
   "source": [
    "test_MR('genprime', 1933)"
   ]
  },
  {
   "cell_type": "markdown",
   "metadata": {},
   "source": [
    " "
   ]
  },
  {
   "cell_type": "markdown",
   "metadata": {},
   "source": [
    "Генерация ключей системы RSA и Рабина"
   ]
  },
  {
   "cell_type": "code",
   "execution_count": 14,
   "metadata": {},
   "outputs": [],
   "source": [
    "def getPrimePair(bits=512):\n",
    "\n",
    "    assert bits%4==0\n",
    "    \n",
    "    p = gen_prime(bits)\n",
    "    q = gen_prime_range(p+1, 2*p)\n",
    "    \n",
    "    return p,q\n",
    "\n",
    "def generateKeysRSA(nbits=1024):\n",
    "    '''\n",
    "    Генерация пары ключей:\n",
    "        public = (e,n)\n",
    "        private = d \n",
    "    при этом n имеет длину nbits\n",
    "    '''\n",
    "    # nbits >= 1024 is recommended\n",
    "    assert nbits%4==0\n",
    "    \n",
    "    p,q = getPrimePair(nbits//2)\n",
    "    n = p*q\n",
    "    phi = totient(p, q)\n",
    "        \n",
    "    # generate a d such that:\n",
    "    #     (d,n) = 1\n",
    "    good_d = False\n",
    "    while not good_d:\n",
    "        d = random.getrandbits(nbits//4)\n",
    "        if (gcd(d,phi) == 1):\n",
    "            good_d = True\n",
    "                    \n",
    "    e = modInverse(d,phi)\n",
    "    return e,n,d\n",
    "\n",
    "\n",
    "def generateKeysRabin(nbits=1024):\n",
    "    \n",
    "    # nbits >= 1024 is recommended\n",
    "    assert nbits%4==0\n",
    "    \n",
    "    p,q = getPrimePair(nbits//2)\n",
    "    n = p*q\n",
    "    \n",
    "    return n, p, q\n",
    "    \n",
    "\n",
    "def cipherRabinKey(nbits=1024, m):\n",
    "    \n",
    "    e,n,d = generateKeysRSA(256)\n",
    "    \n",
    "    if m >= n:\n",
    "        e,n,d = generateKeysRSA(256)\n",
    "    \n",
    "    return c = pow(m, e, n)\n",
    "    \n",
    "    \n",
    "    \n",
    "    \n",
    "\n",
    "def testkeys():\n",
    "    \n",
    "    for i in range(2):\n",
    "        e,n,d = generateKeysRSA()\n",
    "        print (\"Public key:\")\n",
    "        print(\"e =\")\n",
    "        print(e)\n",
    "        print(\"n =\")\n",
    "        print(n)\n",
    "        print (\"Private key:\")\n",
    "        print(\"d =\")\n",
    "        print(d)\n",
    "        print(\"-----------------------\")"
   ]
  },
  {
   "cell_type": "code",
   "execution_count": 15,
   "metadata": {},
   "outputs": [
    {
     "name": "stdout",
     "output_type": "stream",
     "text": [
      "Public key:\n",
      "e =\n",
      "352830055678491448173214660652418401221577847109156185024045784559385630042900817031095569704987094038440391062595506309943142523909510880720687815889424151530315398811103937329582098535237085489709105534292565132689968649112801891708889052400108358549934508940099752140732315543649643640899246203092415072093\n",
      "n =\n",
      "435953454432121489368948165843115325378613054144963301578205938821674762805409961540525759378239220145769207540609427307336396898799592613180035323959715265234072687222246923891640901974344321591367807254431414221963298951587125811789910193771630553883059393863744225621417723487115049256570996433548836786097\n",
      "Private key:\n",
      "d =\n",
      "95436847667104629643289876026791578721667825544379903952513516880864603910293\n",
      "-----------------------\n",
      "Public key:\n",
      "e =\n",
      "322891192362572093119622833049802971199586884527454293047659945294588876413503865700667288161284213017226199788917329297083168066168187274905070423059781150393164949832893457127137572110940460644492996447639684400359265175548192174128568720563139607648259800273689833864119817164810998812454733583295672558915\n",
      "n =\n",
      "834813661084799902104029447409258085792512810262447846106989967076097094948942608002865233142344863196138227831839257890335890878950654603747031622972675221247218982746007010745738403470898475729767878943202007464349193995153844933650933501018970092749937791877655715303188548913108112679171175102649120017223\n",
      "Private key:\n",
      "d =\n",
      "81013797075625694025896061573765439929260847549694192188956219922858751189291\n",
      "-----------------------\n"
     ]
    }
   ],
   "source": [
    "testkeys()"
   ]
  }
 ],
 "metadata": {
  "kernelspec": {
   "display_name": "Python 3",
   "language": "python",
   "name": "python3"
  },
  "language_info": {
   "codemirror_mode": {
    "name": "ipython",
    "version": 3
   },
   "file_extension": ".py",
   "mimetype": "text/x-python",
   "name": "python",
   "nbconvert_exporter": "python",
   "pygments_lexer": "ipython3",
   "version": "3.7.3"
  }
 },
 "nbformat": 4,
 "nbformat_minor": 2
}
