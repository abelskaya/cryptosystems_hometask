{
 "cells": [
  {
   "cell_type": "code",
   "execution_count": 1,
   "metadata": {},
   "outputs": [],
   "source": [
    "import math\n",
    "import random, sys"
   ]
  },
  {
   "cell_type": "markdown",
   "metadata": {},
   "source": [
    " "
   ]
  },
  {
   "cell_type": "markdown",
   "metadata": {},
   "source": [
    " "
   ]
  },
  {
   "cell_type": "markdown",
   "metadata": {},
   "source": [
    "Вспомогательные функции"
   ]
  },
  {
   "cell_type": "code",
   "execution_count": 42,
   "metadata": {},
   "outputs": [],
   "source": [
    "def egcd(a,b):\n",
    "    '''\n",
    "    Расширенный алгоритм Евклида\n",
    "    Возвращает x, y, gcd(a,b) такие, что ax + by = gcd(a,b)\n",
    "    '''\n",
    "    u, u1 = 1, 0\n",
    "    v, v1 = 0, 1\n",
    "    while b:\n",
    "        q = a // b\n",
    "        u, u1 = u1, u - q * u1\n",
    "        v, v1 = v1, v - q * v1\n",
    "        a, b = b, a - q * b\n",
    "    return u, v, a\n",
    "\n",
    "def gcd(a,b):\n",
    "    '''\n",
    "    Работает быстрее, чем стандартный gcd\n",
    "    '''\n",
    "    a,b = (b,a) if a<b else (a,b)\n",
    "    \n",
    "    while b:\n",
    "        a,b=b,a%b\n",
    "    return a\n",
    "\n",
    "def lcm(a, b):\n",
    "    '''\n",
    "    Подсчёт НОК\n",
    "    '''\n",
    "    return (a * b) // math.gcd(a, b)\n",
    "\n",
    "def modInverse(e,n):\n",
    "    '''\n",
    "    Возвращает d: de = 1 (mod n)\n",
    "    e должно быть взаимно просто с n\n",
    "    '''\n",
    "    return egcd(e,n)[0]%n\n",
    "\n",
    "def totient(p,q):\n",
    "    \n",
    "    return (p-1)*(q-1)\n",
    "\n",
    "def bitlength(x):\n",
    "    '''\n",
    "    Вычисление битовой длины x\n",
    "    '''\n",
    "    assert x >= 0\n",
    "    n = 0\n",
    "    while x > 0:\n",
    "        n = n+1\n",
    "        x = x>>1\n",
    "    return n\n",
    "\n",
    "\n",
    "def isqrt(n):\n",
    "\n",
    "    if n < 0:\n",
    "        raise ValueError('Квадратный корень не вычисляется для отрицательных чисел')\n",
    "    \n",
    "    if n == 0:\n",
    "        return 0\n",
    "    a, b = divmod(bitlength(n), 2)\n",
    "    x = 2**(a+b)\n",
    "    while True:\n",
    "        y = (x + n//x)//2\n",
    "        if y >= x:\n",
    "            return x\n",
    "        x = y\n",
    "\n",
    "\n",
    "def is_perfect_square(n):\n",
    "    '''\n",
    "    Возвращает квадратный корень, если число -- полный квадрат, \n",
    "    и -1 -- в противном случае\n",
    "    '''\n",
    "    h = n & 0xF; \n",
    "    \n",
    "    if h > 9:\n",
    "        return -1 \n",
    "\n",
    "    if ( h != 2 and h != 3 and h != 5 and h != 6 and h != 7 and h != 8 ):\n",
    "        \n",
    "        t = isqrt(n)\n",
    "        if t*t == n:\n",
    "            return t\n",
    "        else:\n",
    "            return -1\n",
    "    \n",
    "    return -1"
   ]
  },
  {
   "cell_type": "code",
   "execution_count": 3,
   "metadata": {},
   "outputs": [],
   "source": [
    "def test_is_perfect_square():\n",
    "\n",
    "    testsuit = [4, 0, 15, 25, 18, 901, 1000, 1024]\n",
    "    \n",
    "    for n in testsuit:\n",
    "        print(\"Is \", n, \" a perfect square?\")\n",
    "        if is_perfect_square(n)!= -1:\n",
    "            print(\"Yes!\")\n",
    "        else:\n",
    "            print(\"Nope\")"
   ]
  },
  {
   "cell_type": "code",
   "execution_count": 4,
   "metadata": {},
   "outputs": [
    {
     "name": "stdout",
     "output_type": "stream",
     "text": [
      "Is  4  a perfect square?\n",
      "Yes!\n",
      "Is  0  a perfect square?\n",
      "Yes!\n",
      "Is  15  a perfect square?\n",
      "Nope\n",
      "Is  25  a perfect square?\n",
      "Yes!\n",
      "Is  18  a perfect square?\n",
      "Nope\n",
      "Is  901  a perfect square?\n",
      "Nope\n",
      "Is  1000  a perfect square?\n",
      "Nope\n",
      "Is  1024  a perfect square?\n",
      "Yes!\n"
     ]
    }
   ],
   "source": [
    "test_is_perfect_square()"
   ]
  },
  {
   "cell_type": "code",
   "execution_count": 5,
   "metadata": {},
   "outputs": [],
   "source": [
    "def rational_to_contfrac(x,y):\n",
    "    '''\n",
    "    Converts a rational x/y fraction into\n",
    "    a list of partial quotients [a0, ..., an]\n",
    "    '''\n",
    "    a = x//y\n",
    "    pquotients = [a]\n",
    "    while a * y != x:\n",
    "        x,y = y,x-a*y\n",
    "        a = x//y\n",
    "        pquotients.append(a)\n",
    "    return pquotients\n",
    "\n",
    "\n",
    "def convergents_from_contfrac(frac):\n",
    "    '''\n",
    "    computes the list of convergents\n",
    "    using the list of partial quotients\n",
    "    '''\n",
    "    convs = [];\n",
    "    for i in range(len(frac)):\n",
    "        convs.append(contfrac_to_rational(frac[0:i]))\n",
    "    return convs\n",
    "\n",
    "\n",
    "def contfrac_to_rational (frac):\n",
    "    '''Converts a finite continued fraction [a0, ..., an]\n",
    "     to an x/y rational.\n",
    "     '''\n",
    "    if len(frac) == 0:\n",
    "        return (0,1)\n",
    "    num = frac[-1]\n",
    "    denom = 1\n",
    "    for _ in range(-2,-len(frac)-1,-1):\n",
    "        num, denom = frac[_]*num+denom, num\n",
    "    return (num,denom)"
   ]
  },
  {
   "cell_type": "code",
   "execution_count": 6,
   "metadata": {},
   "outputs": [],
   "source": [
    "def test1():\n",
    "\n",
    "    testnums = [(1, 1), (1, 2), (5, 15), (27, 73), (73, 27)]\n",
    "    for r in testnums:\n",
    "        (num, denom) = r\n",
    "        print('rational number:')\n",
    "        print(r)\n",
    "\n",
    "        contfrac = rational_to_contfrac (num, denom)\n",
    "        print('continued fraction:')\n",
    "        print(contfrac)\n",
    "\n",
    "        print('convergents:')\n",
    "        print(convergents_from_contfrac(contfrac))\n",
    "        print('***********************************')"
   ]
  },
  {
   "cell_type": "code",
   "execution_count": 7,
   "metadata": {},
   "outputs": [
    {
     "name": "stdout",
     "output_type": "stream",
     "text": [
      "rational number:\n",
      "(1, 1)\n",
      "continued fraction:\n",
      "[1]\n",
      "convergents:\n",
      "[(0, 1)]\n",
      "***********************************\n",
      "rational number:\n",
      "(1, 2)\n",
      "continued fraction:\n",
      "[0, 2]\n",
      "convergents:\n",
      "[(0, 1), (0, 1)]\n",
      "***********************************\n",
      "rational number:\n",
      "(5, 15)\n",
      "continued fraction:\n",
      "[0, 3]\n",
      "convergents:\n",
      "[(0, 1), (0, 1)]\n",
      "***********************************\n",
      "rational number:\n",
      "(27, 73)\n",
      "continued fraction:\n",
      "[0, 2, 1, 2, 2, 1, 2]\n",
      "convergents:\n",
      "[(0, 1), (0, 1), (1, 2), (1, 3), (3, 8), (7, 19), (10, 27)]\n",
      "***********************************\n",
      "rational number:\n",
      "(73, 27)\n",
      "continued fraction:\n",
      "[2, 1, 2, 2, 1, 2]\n",
      "convergents:\n",
      "[(0, 1), (2, 1), (3, 1), (8, 3), (19, 7), (27, 10)]\n",
      "***********************************\n"
     ]
    }
   ],
   "source": [
    "test1()"
   ]
  },
  {
   "cell_type": "markdown",
   "metadata": {},
   "source": [
    " "
   ]
  },
  {
   "cell_type": "markdown",
   "metadata": {},
   "source": [
    "Генерация простых чисел при помощи алгоритма Миллера-Рабина"
   ]
  },
  {
   "cell_type": "code",
   "execution_count": 8,
   "metadata": {},
   "outputs": [],
   "source": [
    "def miller_rabin_pass(a, s, d, n):\n",
    "\n",
    "    a_to_power = pow(a, d, n)\n",
    "    i=0\n",
    "    #Invariant: a_to_power = a^(d*2^i) mod n\n",
    "    \n",
    "    # we test whether (a^d) = 1 mod n\n",
    "    if a_to_power == 1:\n",
    "        return True\n",
    "\n",
    "    # we test whether a^(d*2^i) = n-1 mod for 0<=i<=s-1\n",
    "    while(i < s-1):\n",
    "        if a_to_power == n - 1:\n",
    "            return True\n",
    "        a_to_power = (a_to_power * a_to_power) % n\n",
    "        i+=1\n",
    "\n",
    "    # we reach here if the test failed until i=s-2\n",
    "    return a_to_power == n - 1\n",
    "\n",
    "\n",
    "def miller_rabin(n):\n",
    "\n",
    "    #Compute s and d such that n-1 = (2^s)d, with d odd\n",
    "    d = n-1\n",
    "    s = 0\n",
    "    while d%2 == 0:\n",
    "        d >>= 1\n",
    "        s+=1\n",
    "\n",
    "    #Applies the test K times\n",
    "    #The probability of a false positive is less than (1/4)^K\n",
    "    K = 20\n",
    "\n",
    "    i=1\n",
    "    while(i<=K):\n",
    "    # 1 < a < n-1\n",
    "        a = random.randrange(2,n-1)\n",
    "        if not miller_rabin_pass(a, s, d, n):\n",
    "            return False\n",
    "        i += 1\n",
    "\n",
    "    return True\n",
    "\n",
    "\n",
    "def gen_prime(nbits):\n",
    "\n",
    "    while True:\n",
    "        p = random.getrandbits(nbits)\n",
    "        #force p to have nbits and be odd\n",
    "        p |= 2**nbits | 1\n",
    "        if miller_rabin(p):\n",
    "            return p\n",
    "            break\n",
    "\n",
    "def gen_prime_range(start, stop):\n",
    "\n",
    "    while True:\n",
    "        p = random.randrange(start,stop-1)\n",
    "        p |= 1\n",
    "        if miller_rabin(p):\n",
    "            return p\n",
    "            break"
   ]
  },
  {
   "cell_type": "code",
   "execution_count": 9,
   "metadata": {},
   "outputs": [],
   "source": [
    "def test_MR(name, n):\n",
    "    \n",
    "    if name == \"test\":\n",
    "        print (miller_rabin(n) and \"PRIME\" or \"COMPOSITE\")\n",
    "    elif name == \"genprime\":\n",
    "        nbits = int(n)\n",
    "        print(gen_prime(nbits))"
   ]
  },
  {
   "cell_type": "code",
   "execution_count": 10,
   "metadata": {},
   "outputs": [
    {
     "name": "stdout",
     "output_type": "stream",
     "text": [
      "PRIME\n"
     ]
    }
   ],
   "source": [
    "test_MR('test', 1669)"
   ]
  },
  {
   "cell_type": "code",
   "execution_count": 11,
   "metadata": {},
   "outputs": [
    {
     "name": "stdout",
     "output_type": "stream",
     "text": [
      "COMPOSITE\n"
     ]
    }
   ],
   "source": [
    "test_MR('test', 2002)"
   ]
  },
  {
   "cell_type": "code",
   "execution_count": 12,
   "metadata": {},
   "outputs": [
    {
     "name": "stdout",
     "output_type": "stream",
     "text": [
      "1034612905876290541585493550693734843717513023137946202589256760697379511956611592938639135798478618926564920302255800496141517557178045444939966623676210493759524479744951929041442822993795405159499504030010632963694566431241281046333557565317685977453342968223820665655533053650049476477144692515788822489782297454975414508382595576993591359167325856503253670180445911884183585141255531185508899125787838550109423455100747197965019600991960777601695335477672203127112783618689245345930337358619800715632786884129140911780215270881727556070907552982644341195792974791575241320214459\n"
     ]
    }
   ],
   "source": [
    "test_MR('genprime', 1933)"
   ]
  },
  {
   "cell_type": "markdown",
   "metadata": {},
   "source": [
    "Генерация ключей"
   ]
  },
  {
   "cell_type": "code",
   "execution_count": 13,
   "metadata": {},
   "outputs": [],
   "source": [
    "def getPrimePair(bits=512):\n",
    "\n",
    "    assert bits%4==0\n",
    "    \n",
    "    p = gen_prime(bits)\n",
    "    q = gen_prime_range(p+1, 2*p)\n",
    "    \n",
    "    return p,q\n",
    "\n",
    "def generateKeys(nbits=1024):\n",
    "    '''\n",
    "    Генерация пары ключей:\n",
    "        public = (e,n)\n",
    "        private = d \n",
    "    при этом n имеет длину nbits\n",
    "    '''\n",
    "    # nbits >= 1024 is recommended\n",
    "    assert nbits%4==0\n",
    "    \n",
    "    p,q = getPrimePair(nbits//2)\n",
    "    n = p*q\n",
    "    phi = totient(p, q)\n",
    "        \n",
    "    # generate a d such that:\n",
    "    #     (d,n) = 1\n",
    "    good_d = False\n",
    "    while not good_d:\n",
    "        d = random.getrandbits(nbits//4)\n",
    "        if (gcd(d,phi) == 1):\n",
    "            good_d = True\n",
    "                    \n",
    "    e = modInverse(d,phi)\n",
    "    return e,n,d"
   ]
  },
  {
   "cell_type": "code",
   "execution_count": 14,
   "metadata": {},
   "outputs": [],
   "source": [
    "def testkeys():\n",
    "    \n",
    "    for i in range(5):\n",
    "        e,n,d = generateKeys()\n",
    "        print (\"Public key:\")\n",
    "        print(\"e =\")\n",
    "        print(e)\n",
    "        print(\"n =\")\n",
    "        print(n)\n",
    "        print (\"Private key:\")\n",
    "        print(\"d =\")\n",
    "        print(d)\n",
    "        print(\"-----------------------\")"
   ]
  },
  {
   "cell_type": "code",
   "execution_count": 15,
   "metadata": {},
   "outputs": [
    {
     "name": "stdout",
     "output_type": "stream",
     "text": [
      "Public key:\n",
      "e =\n",
      "223701646277546623069487603243087862180591072916166467866613857773708898121213325381900460498975585578551132297382581513212397462136724941724649191835280228295949601890922369639387873476939168260617946237717298446369010184070811168533890516684217799350830303589860455330459971505099463827368805350453525851723\n",
      "n =\n",
      "323005283587157411037061862671404614752164554834656701114930276346230745729507187883968213663803057386685074817762718225392976557457946833834894038103273893102945613228412391289542412232174170518834284329831714053436246750649115417079608797626560062022544324353907272605293364446225473004942446227828357340381\n",
      "Private key:\n",
      "d =\n",
      "112924241382588163556534097442592719336370442581660764882568873152445206605611\n",
      "-----------------------\n",
      "Public key:\n",
      "e =\n",
      "72177498393593699081179612981816541701556934549857785636059477962489153655897784423248499408637938455529834159669540260300958568762223019935750649214640962582534284678826109785522175281482761035648896506217094281579916588187251838992343871015646836600787139975191797204392951402582419339172787055933764646197\n",
      "n =\n",
      "256400650539626466901354370032664052683807768934199289980317788974568396256039520520027531446318418265885720740273562969703921137087476474987604363654086001738821890002916611094344374248757026772776241994086796155318049900131205828447553101448063359941310916656146088478648535490203875990800966097444523471887\n",
      "Private key:\n",
      "d =\n",
      "8674289460887818275739469213452295582764022958450866807309806541676258090677\n",
      "-----------------------\n",
      "Public key:\n",
      "e =\n",
      "279122167955808148801897472938770684392201152778530474583049223808038205029491029142478591852523898059971113806059999941213576128288130360998670198884623736143369399985822051865786823662525946474002377438551614439936847887761456180159240610667308845831781160666583701687424943155885656338917348711186115063091\n",
      "n =\n",
      "307330215903410251779661095334084246047092209730946643211684151253082425282943135124703588749763859201178500271079991126448565477323275526229117862772713666318151277035303812662894788518772600194776552922661517179984435131351499251256328045600797542821368877778308346602951479782233590436586591204320213824673\n",
      "Private key:\n",
      "d =\n",
      "2576793720237433627427313093924541813022777346178074372545720429516437784891\n",
      "-----------------------\n",
      "Public key:\n",
      "e =\n",
      "519318392252302312952028174571070855910740557590615518632492512928292630183814413728416142793374476834888264910042553377699186776997012801165719425450138627313908908236959537219994944648838115527037401759741305719998628692976065722692970517018184500134068799003921867139793781499960639650720950447670210867411\n",
      "n =\n",
      "551311514158967962376843392417271345647641000043718533682073493960668525063775722780468166192637273397241750528928965301299579350192098674699891802329617759395579052457722052409035884979199033832100894370827787299191160524447784567719827688362740816942962251718366745539472284350669294851047623220781755511667\n",
      "Private key:\n",
      "d =\n",
      "59768014173346078761578179071782270000063493496751354948877707035337470096091\n",
      "-----------------------\n",
      "Public key:\n",
      "e =\n",
      "470381315772246844772712026267517332948431617436619880161511685735638788637961174787510958040010505947131383418094327446049831438319803920818173636187089120843371041012706575516364045956026624900065837604573271135575305628015117571623888663652417293297680751036739924071753166054762756025703667722888856690207\n",
      "n =\n",
      "760659470288991812896223694983880509315486918515824845088795974523701829839557866703794623194422816311862127967620900258829915424544206085801543529759114059216504753642304559215017962104942957882172399310065117364089320451719177097731041414113435558669660762137215069257808499921334095305964061519397176652447\n",
      "Private key:\n",
      "d =\n",
      "77551545489435856462403602018307106645168859062410705575160618743104425454111\n",
      "-----------------------\n"
     ]
    }
   ],
   "source": [
    "testkeys()"
   ]
  },
  {
   "cell_type": "markdown",
   "metadata": {},
   "source": [
    "### Реализация атак"
   ]
  },
  {
   "cell_type": "markdown",
   "metadata": {},
   "source": [
    "Атака факторизации модуля p-методом Полларда"
   ]
  },
  {
   "cell_type": "code",
   "execution_count": 39,
   "metadata": {},
   "outputs": [],
   "source": [
    "def p_Pollard(n : int, x : int, y : int, stage : int, i : int): \n",
    "    \n",
    "    if bin(math.gcd(n, abs(x - y))) == 1:\n",
    "        if i == stage:\n",
    "            return p_Pollard(n, (x*x+1)%n, x, stage*2, i+1)\n",
    "        return p_Pollard(n, (x*x+1)%n, y, stage, i+1)\n",
    "    else:\n",
    "        print(math.gcd(n, abs(x-y)))\n",
    "        return math.gcd(n, abs(x-y))"
   ]
  },
  {
   "cell_type": "code",
   "execution_count": 40,
   "metadata": {},
   "outputs": [],
   "source": [
    "def test_pPollard():\n",
    "    print(\"Testing p-Pollard Attack\")\n",
    "    times = 5\n",
    "    \n",
    "    while(times>0):\n",
    "        e,n,d = generateKeys(256)\n",
    "        print(\"(e,n) is (\", e, \", \", n, \")\")\n",
    "        print(\"d = \", d)\n",
    "    \n",
    "        x = random.randint(1, n-2)\n",
    "        y = 1\n",
    "        i = 0\n",
    "        stage = 2\n",
    "        hacked_d = p_Pollard(n, x, y, stage, i)\n",
    "    \n",
    "        if d != hacked_d:\n",
    "            print(\"Successfully hacked with p-Pollard attack!\")\n",
    "        else:\n",
    "            print(\"Hack with p-Pollard attack FAILED\")\n",
    "        \n",
    "        print(\"d = \", d, \", hacked_d = \", hacked_d)\n",
    "        print(\"-------------------------\")\n",
    "        times -= 1"
   ]
  },
  {
   "cell_type": "code",
   "execution_count": 41,
   "metadata": {},
   "outputs": [
    {
     "name": "stdout",
     "output_type": "stream",
     "text": [
      "Testing p-Pollard Attack\n",
      "(e,n) is ( 441611344783229326473348857022530988375798937231232154885857803927209603197623 ,  479300556883206988133424538985153842380755028504168594175451958801622749728431 )\n",
      "d =  8453427323307400231\n",
      "1\n",
      "Successfully hacked with p-Pollard attack!\n",
      "d =  8453427323307400231 , hacked_d =  1\n",
      "-------------------------\n",
      "(e,n) is ( 264752235798456012199917906219863543002251761128538830339631333703908726634833 ,  696626780095488816364874981567432157757091836088714093567376451836863502593339 )\n",
      "d =  12178346534506180457\n",
      "1\n",
      "Successfully hacked with p-Pollard attack!\n",
      "d =  12178346534506180457 , hacked_d =  1\n",
      "-------------------------\n",
      "(e,n) is ( 640257111336306080891686742801290461210151317622372084531186493461535997655757 ,  656703797595889837051644529112304250715560656290830761435188739035069767577719 )\n",
      "d =  3690904603519281605\n",
      "1\n",
      "Successfully hacked with p-Pollard attack!\n",
      "d =  3690904603519281605 , hacked_d =  1\n",
      "-------------------------\n",
      "(e,n) is ( 46530971721479337962020405156762338070962386755283290694481735131246026775963 ,  293935348388603717931838991845514273406093414811613599787799743273491707424057 )\n",
      "d =  12946105296675147667\n",
      "1\n",
      "Successfully hacked with p-Pollard attack!\n",
      "d =  12946105296675147667 , hacked_d =  1\n",
      "-------------------------\n",
      "(e,n) is ( 117875982431149680588543223862936021479374650757080229441369837186973669331919 ,  189575851439682451859049604142101640121996329977160820333615780606882968284939 )\n",
      "d =  2118995100495801519\n",
      "1\n",
      "Successfully hacked with p-Pollard attack!\n",
      "d =  2118995100495801519 , hacked_d =  1\n",
      "-------------------------\n"
     ]
    }
   ],
   "source": [
    "test_pPollard()"
   ]
  },
  {
   "cell_type": "markdown",
   "metadata": {},
   "source": [
    "Атака факторизации модуля (p-1)-методом Полларда. "
   ]
  },
  {
   "cell_type": "code",
   "execution_count": null,
   "metadata": {},
   "outputs": [],
   "source": [
    "Простые числа p и q в системе RSA\n",
    "необходимо также выбирать, исходя из тех соображений, чтобы p±1, q±1 имели по крайней\n",
    "мере один простой делитель, больший 1020, в противном случае p можно эффективно найти,\n",
    "используя (p-1)-алгоритм Полларда.\n",
    "Пусть N > 1 составное число. Следующий алгоритм с некоторой вероятностью\n",
    "возвращает нетривиальный делитель N.\n",
    "1. Случайно выбрать а Є Zn. Выбрать положительное целое k=НОК(1,2, …, B),\n",
    "для соответствующей границы B.\n",
    "2. Вычислить ak≡a\n",
    "k\n",
    "(mod N).\n",
    "3. Вычислить f=НОД(ak-1,N).\n",
    "4. Если 1<f<N, то f – делитель N, вывести f и перейти к шагу 6.\n",
    "5. Иначе перейти к шагу 2 и выбрать новое a и k.\n",
    "6. Завершить алгоритм.\n"
   ]
  },
  {
   "cell_type": "code",
   "execution_count": null,
   "metadata": {},
   "outputs": [],
   "source": [
    "template <class T>\n",
    "T pollard_p_1 (T n)\n",
    "{\n",
    "\t// параметры алгоритма, существенно влияют на производительность и качество поиска\n",
    "\tconst T b = 13;\n",
    "\tconst T q[] = { 2, 3, 5, 7, 11, 13 };\n",
    "\n",
    "\t// несколько попыток алгоритма\n",
    "\tT a = 5 % n;\n",
    "\tfor (int j=0; j<10; j++)\n",
    "\t{\n",
    "\n",
    "\t\t// ищем такое a, которое взаимно просто с n\n",
    "\t\twhile (gcd (a, n) != 1)\n",
    "\t\t{\n",
    "\t\t\tmulmod (a, a, n);\n",
    "\t\t\ta += 3;\n",
    "\t\t\ta %= n;\n",
    "\t\t}\n",
    "\n",
    "\t\t// вычисляем a^M\n",
    "\t\tfor (size_t i = 0; i < sizeof q / sizeof q[0]; i++)\n",
    "\t\t{\n",
    "\t\t\tT qq = q[i];\n",
    "\t\t\tT e = (T) floor (log ((double)b) / log ((double)qq));\n",
    "\t\t\tT aa = powmod (a, powmod (qq, e, n), n);\n",
    "\t\t\tif (aa == 0)\n",
    "\t\t\t\tcontinue;\n",
    "\t\t\t\n",
    "\t\t\t// проверяем, не найден ли ответ\n",
    "\t\t\tT g = gcd (aa-1, n);\n",
    "\t\t\tif (1 < g && g < n)\n",
    "\t\t\t\treturn g;\n",
    "\t\t}\n",
    "\n",
    "\t}\n",
    "\n",
    "\t// если ничего не нашли\n",
    "\treturn 1;\n",
    "\n",
    "}"
   ]
  },
  {
   "cell_type": "code",
   "execution_count": null,
   "metadata": {},
   "outputs": [],
   "source": [
    "def p1_Pollard():\n",
    "    \n",
    "    k = 1\n",
    "    for i in range(1,B):\n",
    "        k = lcm(k,i)\n",
    "    \n",
    "    a_k = \n",
    "    \n",
    "    f = math.gcd(a_k-1, N)\n",
    "    \n",
    "    if f>1 and f<N:\n",
    "        return f\n",
    "    else:\n",
    "        point2() # ?\n",
    "    \n",
    "\n",
    "    "
   ]
  },
  {
   "cell_type": "markdown",
   "metadata": {},
   "source": [
    "Атака Винера"
   ]
  },
  {
   "cell_type": "code",
   "execution_count": 26,
   "metadata": {},
   "outputs": [],
   "source": [
    "def Wiener(e,n):\n",
    "    '''\n",
    "    Finds d knowing (e,n)\n",
    "    applying the Wiener continued fraction attack\n",
    "    '''\n",
    "    frac = rational_to_contfrac(e, n)\n",
    "    convergents = convergents_from_contfrac(frac)\n",
    "    \n",
    "    for (k,d) in convergents:\n",
    "        \n",
    "        #check if d is actually the key\n",
    "        if k!=0 and (e*d-1)%k == 0:\n",
    "            phi = (e*d-1)//k\n",
    "            s = n - phi + 1\n",
    "            # check if the equation x^2 - s*x + n = 0 has integer roots\n",
    "            discr = s*s - 4*n\n",
    "            if(discr>=0):\n",
    "                t = is_perfect_square(discr)\n",
    "                if t!=-1 and (s+t)%2==0:\n",
    "                    print(\"Successfully hacked with Wiener attack!\")\n",
    "                    return d"
   ]
  },
  {
   "cell_type": "code",
   "execution_count": 27,
   "metadata": {},
   "outputs": [],
   "source": [
    "def test_Wiener():\n",
    "    print(\"Testing Wiener Attack\")\n",
    "    times = 5\n",
    "    \n",
    "    while(times>0):\n",
    "        e,n,d = generateKeys(1024)\n",
    "        print(\"(e,n) is (\", e, \", \", n, \")\")\n",
    "        print(\"d = \", d)\n",
    "    \n",
    "        hacked_d = Wiener(e, n)\n",
    "    \n",
    "#         if d == hacked_d:\n",
    "#             print(\"Hack WORKED!\")\n",
    "#         else:\n",
    "#             print(\"Hack FAILED\")\n",
    "        if d != hacked_d:\n",
    "            print(\"Hack with Wiener attack FAILED\")\n",
    "        \n",
    "        print(\"d = \", d, \", hacked_d = \", hacked_d)\n",
    "        print(\"-------------------------\")\n",
    "        times -= 1"
   ]
  },
  {
   "cell_type": "code",
   "execution_count": 28,
   "metadata": {},
   "outputs": [
    {
     "name": "stdout",
     "output_type": "stream",
     "text": [
      "Testing Wiener Attack\n",
      "(e,n) is ( 526819131120052082910096755793140106602125443207259055296089611115332630122574344583227160890173421111170219948346380211851714846582330105940498052295234060125872818963614920143387388496698653489918444008528639930893855243157492541610549104089607793522138879206157131227323661308530892767949467194058420392431 ,  1320628287972301207849962464154924655054746001880691882300957705518969811498911002992439991394576007843121555543109656833990282023026886558975364522457063600349142058610338278133343434868096211999206495555022816455545712519773688788279756490379776574817673114193808904493938306155550429891121529946666190930393 )\n",
      "d =  67847036597749646050468769633479973760412024684858411373266321349294378688271\n",
      "Successfully hacked with Wiener attack!\n",
      "d =  67847036597749646050468769633479973760412024684858411373266321349294378688271 , hacked_d =  67847036597749646050468769633479973760412024684858411373266321349294378688271\n",
      "-------------------------\n",
      "(e,n) is ( 309427877122248052253844327201177565662990353104195225445713141687757005603902103864894958196859200477984049913375893686540274714290326894761735359782620627554490880866786185800524124142243074901530011224334175804521823227650100619928264252880301236622764795037540030174993757434873938004684238911572454553719 ,  348760128040802745766466285019042673059378816379370585941440284452676726607550583027568646381379859729157271758658248557759277959419494414563614296750559798385350317249405684353785860057273699121242101970208086225755336809517966877669434227280392859553983868831963596401360043990422691700220574633317386609973 )\n",
      "d =  87231877386134077230612020745124016154197547461656349965363582098176208294107\n",
      "Successfully hacked with Wiener attack!\n",
      "d =  87231877386134077230612020745124016154197547461656349965363582098176208294107 , hacked_d =  87231877386134077230612020745124016154197547461656349965363582098176208294107\n",
      "-------------------------\n",
      "(e,n) is ( 256450670421922728586774977364381994294821932151857747410267150343289205687793740873555346384700898550624414773452052039069167005557268553061335229355247770742533023385933606798630631692662135712213506299841466353789927145424602014025324861902676666021769335542241364581442147419418914240808642388352100330271 ,  299805702330294009430228814254025957579297205645056766302075035910722782878312776812827510964124394210649637351787051872389522657014189536869131858581244084619422431444388329059229186293083008092666079906284590380518223236048493161522916430906644463550982886534975843809045738792480150124513239077011165275849 )\n",
      "d =  39371847991020370207332044759136286896812096384657679580646262029503923097151\n",
      "Successfully hacked with Wiener attack!\n",
      "d =  39371847991020370207332044759136286896812096384657679580646262029503923097151 , hacked_d =  39371847991020370207332044759136286896812096384657679580646262029503923097151\n",
      "-------------------------\n",
      "(e,n) is ( 1208120322706050037763400792619000185136925137214035430696524461986676253487220860687483866348743020087864842987159930737028986210211387188572409096733919813070355932536902552769032145251549595068912508938578876567048128321977554053490890798318969164039756420676859542089421585108872058470194637284400916834593 ,  1341003424243119390668209027021297873952283738314165987945952118149927096242119795624665593359776291319069866800110384840648899838667509298448660031983127109628310042502057946961361152769467702810910549740940420614351471727842958104538794798031361802117999167741897172215830978221026162481118461694720398066883 )\n",
      "d =  109482290563666018181465319237638898951678805510803894647272728332496192699937\n",
      "Successfully hacked with Wiener attack!\n",
      "d =  109482290563666018181465319237638898951678805510803894647272728332496192699937 , hacked_d =  109482290563666018181465319237638898951678805510803894647272728332496192699937\n",
      "-------------------------\n",
      "(e,n) is ( 417042675804863401132059386518090432791631735314336863755170255477013416628818586658052525854447908566220209326790284265007677413566624889316170095208003842097735648364863544639378433253677851979306654242508103717906646508458768008324289313056332882440849452548884739055083769537384632575880455740289006497113 ,  511699926341246717483415392143570227807777637409754797002939634973345783441345388187950196154188103585308809660624538615100988026638190771274196542855736581944254119992221393619070000924714442797229032072761194256575950517091936486046030671876277682053940771180055353517851402626915991488369862628053178667693 )\n",
      "d =  61781284467826239656993917237983503658459814727500058087602773181546492182377\n",
      "Successfully hacked with Wiener attack!\n",
      "d =  61781284467826239656993917237983503658459814727500058087602773181546492182377 , hacked_d =  61781284467826239656993917237983503658459814727500058087602773181546492182377\n",
      "-------------------------\n"
     ]
    }
   ],
   "source": [
    "test_Wiener()"
   ]
  },
  {
   "cell_type": "markdown",
   "source": [
    " "
   ],
   "metadata": {
    "collapsed": false
   }
  },
  {
   "cell_type": "markdown",
   "metadata": {},
   "source": []
  },
  {
   "cell_type": "code",
   "execution_count": null,
   "metadata": {},
   "outputs": [],
   "source": []
  }
 ],
 "metadata": {
  "kernelspec": {
   "display_name": "Python 3",
   "language": "python",
   "name": "python3"
  },
  "language_info": {
   "codemirror_mode": {
    "name": "ipython",
    "version": 3
   },
   "file_extension": ".py",
   "mimetype": "text/x-python",
   "name": "python",
   "nbconvert_exporter": "python",
   "pygments_lexer": "ipython3",
   "version": "3.7.3"
  }
 },
 "nbformat": 4,
 "nbformat_minor": 2
}