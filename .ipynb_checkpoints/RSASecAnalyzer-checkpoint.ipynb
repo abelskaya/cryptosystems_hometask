{
 "cells": [
  {
   "cell_type": "code",
   "execution_count": 6,
   "metadata": {},
   "outputs": [],
   "source": [
    "import math\n",
    "import random, sys\n",
    "from math import gcd, log"
   ]
  },
  {
   "cell_type": "markdown",
   "metadata": {},
   "source": [
    " "
   ]
  },
  {
   "cell_type": "markdown",
   "metadata": {},
   "source": [
    " "
   ]
  },
  {
   "cell_type": "markdown",
   "metadata": {},
   "source": [
    "Вспомогательные функции"
   ]
  },
  {
   "cell_type": "code",
   "execution_count": 27,
   "metadata": {},
   "outputs": [],
   "source": [
    "def egcd(a,b):\n",
    "    '''\n",
    "    Расширенный алгоритм Евклида\n",
    "    Возвращает x, y, gcd(a,b) такие, что ax + by = gcd(a,b)\n",
    "    '''\n",
    "    u, u1 = 1, 0\n",
    "    v, v1 = 0, 1\n",
    "    while b:\n",
    "        q = a // b\n",
    "        u, u1 = u1, u - q * u1\n",
    "        v, v1 = v1, v - q * v1\n",
    "        a, b = b, a - q * b\n",
    "    return u, v, a\n",
    "\n",
    "def gcd(a,b):\n",
    "    '''\n",
    "    Работает быстрее, чем стандартный gcd\n",
    "    '''\n",
    "    a,b = (b,a) if a<b else (a,b)\n",
    "    \n",
    "    while b:\n",
    "        a,b=b,a%b\n",
    "    return a\n",
    "\n",
    "def lcm(a, b):\n",
    "    '''\n",
    "    Подсчёт НОК\n",
    "    '''\n",
    "    return (a * b) // math.gcd(a, b)\n",
    "\n",
    "def modInverse(e,n):\n",
    "    '''\n",
    "    Возвращает d: de = 1 (mod n)\n",
    "    e должно быть взаимно просто с n\n",
    "    '''\n",
    "    return egcd(e,n)[0]%n\n",
    "\n",
    "def totient(p,q):\n",
    "    \n",
    "    return (p-1)*(q-1)\n",
    "\n",
    "def bitlength(x):\n",
    "    '''\n",
    "    Вычисление битовой длины x\n",
    "    '''\n",
    "    assert x >= 0\n",
    "    n = 0\n",
    "    while x > 0:\n",
    "        n = n+1\n",
    "        x = x>>1\n",
    "    return n\n",
    "\n",
    "\n",
    "def sieve(n: int) -> list:\n",
    "    \"\"\"\n",
    "    Sieve away and only primes are left.\n",
    "    \"\"\"\n",
    "    primes = 2*[False] + (n-1)*[True]\n",
    "    for i in range(2, int(n**0.5+1.5)):\n",
    "        for j in range(i*i, n+1, i):\n",
    "            primes[j] = False\n",
    "    return [prime for prime, checked in enumerate(primes) if checked]\n",
    "\n",
    "\n",
    "def isqrt(n):\n",
    "\n",
    "    if n < 0:\n",
    "        raise ValueError('Квадратный корень не вычисляется для отрицательных чисел')\n",
    "    \n",
    "    if n == 0:\n",
    "        return 0\n",
    "    a, b = divmod(bitlength(n), 2)\n",
    "    x = 2**(a+b)\n",
    "    while True:\n",
    "        y = (x + n//x)//2\n",
    "        if y >= x:\n",
    "            return x\n",
    "        x = y\n",
    "\n",
    "\n",
    "def is_perfect_square(n):\n",
    "    '''\n",
    "    Возвращает квадратный корень, если число -- полный квадрат, \n",
    "    и -1 -- в противном случае\n",
    "    '''\n",
    "    h = n & 0xF; \n",
    "    \n",
    "    if h > 9:\n",
    "        return -1 \n",
    "\n",
    "    if ( h != 2 and h != 3 and h != 5 and h != 6 and h != 7 and h != 8 ):\n",
    "        \n",
    "        t = isqrt(n)\n",
    "        if t*t == n:\n",
    "            return t\n",
    "        else:\n",
    "            return -1\n",
    "    \n",
    "    return -1"
   ]
  },
  {
   "cell_type": "code",
   "execution_count": 8,
   "metadata": {},
   "outputs": [],
   "source": [
    "def test_is_perfect_square():\n",
    "\n",
    "    testsuit = [4, 0, 15, 25, 18, 901, 1000, 1024]\n",
    "    \n",
    "    for n in testsuit:\n",
    "        print(\"Is \", n, \" a perfect square?\")\n",
    "        if is_perfect_square(n)!= -1:\n",
    "            print(\"Yes!\")\n",
    "        else:\n",
    "            print(\"Nope\")"
   ]
  },
  {
   "cell_type": "code",
   "execution_count": 9,
   "metadata": {},
   "outputs": [
    {
     "name": "stdout",
     "output_type": "stream",
     "text": [
      "Is  4  a perfect square?\n",
      "Yes!\n",
      "Is  0  a perfect square?\n",
      "Yes!\n",
      "Is  15  a perfect square?\n",
      "Nope\n",
      "Is  25  a perfect square?\n",
      "Yes!\n",
      "Is  18  a perfect square?\n",
      "Nope\n",
      "Is  901  a perfect square?\n",
      "Nope\n",
      "Is  1000  a perfect square?\n",
      "Nope\n",
      "Is  1024  a perfect square?\n",
      "Yes!\n"
     ]
    }
   ],
   "source": [
    "test_is_perfect_square()"
   ]
  },
  {
   "cell_type": "code",
   "execution_count": 10,
   "metadata": {},
   "outputs": [],
   "source": [
    "def rational_to_contfrac(x,y):\n",
    "    '''\n",
    "    Converts a rational x/y fraction into\n",
    "    a list of partial quotients [a0, ..., an]\n",
    "    '''\n",
    "    a = x//y\n",
    "    pquotients = [a]\n",
    "    while a * y != x:\n",
    "        x,y = y,x-a*y\n",
    "        a = x//y\n",
    "        pquotients.append(a)\n",
    "    return pquotients\n",
    "\n",
    "\n",
    "def convergents_from_contfrac(frac):\n",
    "    '''\n",
    "    computes the list of convergents\n",
    "    using the list of partial quotients\n",
    "    '''\n",
    "    convs = [];\n",
    "    for i in range(len(frac)):\n",
    "        convs.append(contfrac_to_rational(frac[0:i]))\n",
    "    return convs\n",
    "\n",
    "\n",
    "def contfrac_to_rational (frac):\n",
    "    '''Converts a finite continued fraction [a0, ..., an]\n",
    "     to an x/y rational.\n",
    "     '''\n",
    "    if len(frac) == 0:\n",
    "        return (0,1)\n",
    "    num = frac[-1]\n",
    "    denom = 1\n",
    "    for _ in range(-2,-len(frac)-1,-1):\n",
    "        num, denom = frac[_]*num+denom, num\n",
    "    return (num,denom)"
   ]
  },
  {
   "cell_type": "code",
   "execution_count": 11,
   "metadata": {},
   "outputs": [],
   "source": [
    "def test1():\n",
    "\n",
    "    testnums = [(1, 1), (1, 2), (5, 15), (27, 73), (73, 27)]\n",
    "    for r in testnums:\n",
    "        (num, denom) = r\n",
    "        print('rational number:')\n",
    "        print(r)\n",
    "\n",
    "        contfrac = rational_to_contfrac (num, denom)\n",
    "        print('continued fraction:')\n",
    "        print(contfrac)\n",
    "\n",
    "        print('convergents:')\n",
    "        print(convergents_from_contfrac(contfrac))\n",
    "        print('***********************************')"
   ]
  },
  {
   "cell_type": "code",
   "execution_count": 12,
   "metadata": {},
   "outputs": [
    {
     "name": "stdout",
     "output_type": "stream",
     "text": [
      "rational number:\n",
      "(1, 1)\n",
      "continued fraction:\n",
      "[1]\n",
      "convergents:\n",
      "[(0, 1)]\n",
      "***********************************\n",
      "rational number:\n",
      "(1, 2)\n",
      "continued fraction:\n",
      "[0, 2]\n",
      "convergents:\n",
      "[(0, 1), (0, 1)]\n",
      "***********************************\n",
      "rational number:\n",
      "(5, 15)\n",
      "continued fraction:\n",
      "[0, 3]\n",
      "convergents:\n",
      "[(0, 1), (0, 1)]\n",
      "***********************************\n",
      "rational number:\n",
      "(27, 73)\n",
      "continued fraction:\n",
      "[0, 2, 1, 2, 2, 1, 2]\n",
      "convergents:\n",
      "[(0, 1), (0, 1), (1, 2), (1, 3), (3, 8), (7, 19), (10, 27)]\n",
      "***********************************\n",
      "rational number:\n",
      "(73, 27)\n",
      "continued fraction:\n",
      "[2, 1, 2, 2, 1, 2]\n",
      "convergents:\n",
      "[(0, 1), (2, 1), (3, 1), (8, 3), (19, 7), (27, 10)]\n",
      "***********************************\n"
     ]
    }
   ],
   "source": [
    "test1()"
   ]
  },
  {
   "cell_type": "markdown",
   "metadata": {},
   "source": [
    " "
   ]
  },
  {
   "cell_type": "markdown",
   "metadata": {},
   "source": [
    "Генерация простых чисел при помощи алгоритма Миллера-Рабина"
   ]
  },
  {
   "cell_type": "code",
   "execution_count": 13,
   "metadata": {},
   "outputs": [],
   "source": [
    "def miller_rabin_pass(a, s, d, n):\n",
    "\n",
    "    a_to_power = pow(a, d, n)\n",
    "    i=0\n",
    "    #Invariant: a_to_power = a^(d*2^i) mod n\n",
    "    \n",
    "    # we test whether (a^d) = 1 mod n\n",
    "    if a_to_power == 1:\n",
    "        return True\n",
    "\n",
    "    # we test whether a^(d*2^i) = n-1 mod for 0<=i<=s-1\n",
    "    while(i < s-1):\n",
    "        if a_to_power == n - 1:\n",
    "            return True\n",
    "        a_to_power = (a_to_power * a_to_power) % n\n",
    "        i+=1\n",
    "\n",
    "    # we reach here if the test failed until i=s-2\n",
    "    return a_to_power == n - 1\n",
    "\n",
    "\n",
    "def miller_rabin(n):\n",
    "\n",
    "    #Compute s and d such that n-1 = (2^s)d, with d odd\n",
    "    d = n-1\n",
    "    s = 0\n",
    "    while d%2 == 0:\n",
    "        d >>= 1\n",
    "        s+=1\n",
    "\n",
    "    #Applies the test K times\n",
    "    #The probability of a false positive is less than (1/4)^K\n",
    "    K = 20\n",
    "\n",
    "    i=1\n",
    "    while(i<=K):\n",
    "    # 1 < a < n-1\n",
    "        a = random.randrange(2,n-1)\n",
    "        if not miller_rabin_pass(a, s, d, n):\n",
    "            return False\n",
    "        i += 1\n",
    "\n",
    "    return True\n",
    "\n",
    "\n",
    "def gen_prime(nbits):\n",
    "\n",
    "    while True:\n",
    "        p = random.getrandbits(nbits)\n",
    "        #force p to have nbits and be odd\n",
    "        p |= 2**nbits | 1\n",
    "        if miller_rabin(p):\n",
    "            return p\n",
    "            break\n",
    "\n",
    "def gen_prime_range(start, stop):\n",
    "\n",
    "    while True:\n",
    "        p = random.randrange(start,stop-1)\n",
    "        p |= 1\n",
    "        if miller_rabin(p):\n",
    "            return p\n",
    "            break"
   ]
  },
  {
   "cell_type": "code",
   "execution_count": 14,
   "metadata": {},
   "outputs": [],
   "source": [
    "def test_MR(name, n):\n",
    "    \n",
    "    if name == \"test\":\n",
    "        print (miller_rabin(n) and \"PRIME\" or \"COMPOSITE\")\n",
    "    elif name == \"genprime\":\n",
    "        nbits = int(n)\n",
    "        print(gen_prime(nbits))"
   ]
  },
  {
   "cell_type": "code",
   "execution_count": 15,
   "metadata": {},
   "outputs": [
    {
     "name": "stdout",
     "output_type": "stream",
     "text": [
      "PRIME\n"
     ]
    }
   ],
   "source": [
    "test_MR('test', 1669)"
   ]
  },
  {
   "cell_type": "code",
   "execution_count": 16,
   "metadata": {},
   "outputs": [
    {
     "name": "stdout",
     "output_type": "stream",
     "text": [
      "COMPOSITE\n"
     ]
    }
   ],
   "source": [
    "test_MR('test', 2002)"
   ]
  },
  {
   "cell_type": "code",
   "execution_count": 17,
   "metadata": {},
   "outputs": [
    {
     "name": "stdout",
     "output_type": "stream",
     "text": [
      "1459819147519969151041923594475686111775359043403974833297363403415817745381023072109169229657854514628491922617644757021357376270134414179484336288281974410960161635684320582936095614195270733992089312577130603018514811035680148692533188015441865799256536314982576642365302632598218202000727504470639574382088414141447526904652576768044512051535938685521541562817304109543341313701521895915998021590454765558091781349778866718314584107125978808733840382145817244167015958701662185087160337313755002036618885698920988524278026368775932415563251902244250048028589736838170347057605529\n"
     ]
    }
   ],
   "source": [
    "test_MR('genprime', 1933)"
   ]
  },
  {
   "cell_type": "markdown",
   "metadata": {},
   "source": [
    "Генерация ключей"
   ]
  },
  {
   "cell_type": "code",
   "execution_count": 18,
   "metadata": {},
   "outputs": [],
   "source": [
    "def getPrimePair(bits=512):\n",
    "\n",
    "    assert bits%4==0\n",
    "    \n",
    "    p = gen_prime(bits)\n",
    "    q = gen_prime_range(p+1, 2*p)\n",
    "    \n",
    "    return p,q\n",
    "\n",
    "def generateKeys(nbits=1024):\n",
    "    '''\n",
    "    Генерация пары ключей:\n",
    "        public = (e,n)\n",
    "        private = d \n",
    "    при этом n имеет длину nbits\n",
    "    '''\n",
    "    # nbits >= 1024 is recommended\n",
    "    assert nbits%4==0\n",
    "    \n",
    "    p,q = getPrimePair(nbits//2)\n",
    "    n = p*q\n",
    "    phi = totient(p, q)\n",
    "        \n",
    "    # generate a d such that:\n",
    "    #     (d,n) = 1\n",
    "    good_d = False\n",
    "    while not good_d:\n",
    "        d = random.getrandbits(nbits//4)\n",
    "        if (gcd(d,phi) == 1):\n",
    "            good_d = True\n",
    "                    \n",
    "    e = modInverse(d,phi)\n",
    "    return e,n,d"
   ]
  },
  {
   "cell_type": "code",
   "execution_count": 19,
   "metadata": {},
   "outputs": [],
   "source": [
    "def testkeys():\n",
    "    \n",
    "    for i in range(5):\n",
    "        e,n,d = generateKeys()\n",
    "        print (\"Public key:\")\n",
    "        print(\"e =\")\n",
    "        print(e)\n",
    "        print(\"n =\")\n",
    "        print(n)\n",
    "        print (\"Private key:\")\n",
    "        print(\"d =\")\n",
    "        print(d)\n",
    "        print(\"-----------------------\")"
   ]
  },
  {
   "cell_type": "code",
   "execution_count": 20,
   "metadata": {},
   "outputs": [
    {
     "name": "stdout",
     "output_type": "stream",
     "text": [
      "Public key:\n",
      "e =\n",
      "232833826569660720335701209580564594586263379622088909425997571451567143350018620605739883297062890261784642913526551763286651267038617328406891425205115088642713546696587157089504000875215452058997246393061289126002872566834913685073756583970840591401826984802444594076112290649783533311921413909821783540257\n",
      "n =\n",
      "315400032881575284858136293274728337310878691595213128005107917257613617753311757334021267924033350823952023018267881328837178609998350977293427874010889238082960013085692944267712175735771216952165954857660177940266485356764105688857717826812156543723954783876692130038567179138431600708360664595607400478769\n",
      "Private key:\n",
      "d =\n",
      "6579951406216536422034174395220715479048155799421008190669729608388740895393\n",
      "-----------------------\n",
      "Public key:\n",
      "e =\n",
      "156594508540130628952596802432101702621794112028713916039921014233408030250379592616261527275132136842905613530706553891877163083578429083877568479665239265880548077790695401669692492802964770403087589912408152539095947867128793558188108398007678393915761740726772704642099255412123062158336221907357231714321\n",
      "n =\n",
      "499049123534920652604500176436748745733402725942889028929912278987289473463696988863275839081221818862701909602525208741075530227397023801405872706162078789655971143326875004575682765408083056590677885909819592294425299070854129066860835938520244364575533941882448736771215936196971189947928138423477043812621\n",
      "Private key:\n",
      "d =\n",
      "11480543899024392017022080803740962474971926517374164808143951567558742806873\n",
      "-----------------------\n",
      "Public key:\n",
      "e =\n",
      "136554367207647991830936814852075716249677395049274315504945882251869737813642535889301320166579834897178722575703975601393079834106731318360627115641330611464352914633439593861362982125019022249971176808727726267152849977789626375133317267172617068043793173470040092769571119112798125522653890504130676089911\n",
      "n =\n",
      "233753570967658276603361964729295287826980186829803250320683954955980666744057253302870115930032465703928321114106373908714471025366002256763127843630321097668711624754865398059247031750532959727211667455442459705892089630286152276537570996239218852230115518202580420269020977498275656142792374967523544806407\n",
      "Private key:\n",
      "d =\n",
      "57707485873411898586631869988619234180826607157903990732338163252293755559943\n",
      "-----------------------\n",
      "Public key:\n",
      "e =\n",
      "500494036753351814479928820726111951036536850727161528739720478570011629229829682512923492424028492214757895126935050787815437707207997980681873692165658327064958237018324365957535051835495883999307968534982254488644179790815132402898301144924199159335641326732831062799572614259658647610787450742743839222061\n",
      "n =\n",
      "658340424485330727984982468619029242907913329705093517082251739195163425609495337885110067413134236063211019805501296358411392824633657186107977518043455698390960266850843716521814971718312544803701270204413332810869590841319794647535305169488987080194451122716043604545653922222528094797764274384667244177459\n",
      "Private key:\n",
      "d =\n",
      "29111752296378492747132472148540798461326076514926262723524980849207835345541\n",
      "-----------------------\n",
      "Public key:\n",
      "e =\n",
      "1081345042309213136679202041810042597156412971384931579325619110154896883478056749500126297025299454418789419996805816933235199404344575813195326641674363931733191419746439923728684050133713592362722511025361766473663062228370576358690750576268704133224312134364818903967485836819070970108146213502282117692489\n",
      "n =\n",
      "1168720638345725858621413495273365099051736086909853265745626591046675823576808039417017499281111842388363871522641819294046375812218454526357607073848031415300703937807028267479501691209443465183557294183771247025381947051657182643520426363958044740907403503933647365609499765859133769939603979917748440102881\n",
      "Private key:\n",
      "d =\n",
      "57510419192925639363705495449656641674218349110896295679381121781852906888633\n",
      "-----------------------\n"
     ]
    }
   ],
   "source": [
    "testkeys()"
   ]
  },
  {
   "cell_type": "markdown",
   "metadata": {},
   "source": [
    "### Реализация атак"
   ]
  },
  {
   "cell_type": "markdown",
   "metadata": {},
   "source": [
    "Атака факторизации модуля p-методом Полларда"
   ]
  },
  {
   "cell_type": "code",
   "execution_count": 21,
   "metadata": {},
   "outputs": [],
   "source": [
    "def p_Pollard(n : int, x : int, y : int, stage : int, i : int): \n",
    "    \n",
    "    if bin(math.gcd(n, abs(x - y))) == 1:\n",
    "        if i == stage:\n",
    "            return p_Pollard(n, (x*x+1)%n, x, stage*2, i+1)\n",
    "        return p_Pollard(n, (x*x+1)%n, y, stage, i+1)\n",
    "    else:\n",
    "        print(math.gcd(n, abs(x-y)))\n",
    "        return math.gcd(n, abs(x-y))"
   ]
  },
  {
   "cell_type": "code",
   "execution_count": 22,
   "metadata": {},
   "outputs": [],
   "source": [
    "def test_pPollard():\n",
    "    print(\"Testing p-Pollard Attack\")\n",
    "    times = 5\n",
    "    \n",
    "    while(times>0):\n",
    "        e,n,d = generateKeys(256)\n",
    "        print(\"(e,n) is (\", e, \", \", n, \")\")\n",
    "        print(\"d = \", d)\n",
    "    \n",
    "        x = random.randint(1, n-2)\n",
    "        y = 1\n",
    "        i = 0\n",
    "        stage = 2\n",
    "        hacked_d = p_Pollard(n, x, y, stage, i)\n",
    "    \n",
    "        if d != hacked_d:\n",
    "            print(\"Successfully hacked with p-Pollard attack!\")\n",
    "        else:\n",
    "            print(\"Hack with p-Pollard attack FAILED\")\n",
    "        \n",
    "        print(\"d = \", d, \", hacked_d = \", hacked_d)\n",
    "        print(\"-------------------------\")\n",
    "        times -= 1"
   ]
  },
  {
   "cell_type": "code",
   "execution_count": 23,
   "metadata": {},
   "outputs": [
    {
     "name": "stdout",
     "output_type": "stream",
     "text": [
      "Testing p-Pollard Attack\n",
      "(e,n) is ( 65127612822120636944715987799952682644613043442226086729579219822142518422423 ,  352973268202988131721659850914644024390357398595975658595777327727674319136733 )\n",
      "d =  8647571138383700647\n",
      "1\n",
      "Successfully hacked with p-Pollard attack!\n",
      "d =  8647571138383700647 , hacked_d =  1\n",
      "-------------------------\n",
      "(e,n) is ( 160540987556703012531138799477812630002457471092770780493200638575038535787479 ,  160797178475210194227968054012098061397664074538669380187889320314840449262347 )\n",
      "d =  12383492538209200559\n",
      "1\n",
      "Successfully hacked with p-Pollard attack!\n",
      "d =  12383492538209200559 , hacked_d =  1\n",
      "-------------------------\n",
      "(e,n) is ( 390379283425909699246005102571733992666898832630664007982425831686738054147043 ,  398557984716353422113923178352313798165479403489344694787845900639008026487381 )\n",
      "d =  5927809611540345515\n",
      "1\n",
      "Successfully hacked with p-Pollard attack!\n",
      "d =  5927809611540345515 , hacked_d =  1\n",
      "-------------------------\n",
      "(e,n) is ( 334993910913689242632705422421246613066893737318288840845619828267133648158591 ,  480979919716047742913339459707770912171904324419031285755487506210866959702331 )\n",
      "d =  6082667159834347511\n",
      "1\n",
      "Successfully hacked with p-Pollard attack!\n",
      "d =  6082667159834347511 , hacked_d =  1\n",
      "-------------------------\n",
      "(e,n) is ( 79867872654820186045663625934724291798714182376793839992711244439607927136633 ,  229892250993207705271733514849768390134843886505140662390341205406580589940523 )\n",
      "d =  7764221402533508425\n",
      "1\n",
      "Successfully hacked with p-Pollard attack!\n",
      "d =  7764221402533508425 , hacked_d =  1\n",
      "-------------------------\n"
     ]
    }
   ],
   "source": [
    "test_pPollard()"
   ]
  },
  {
   "cell_type": "markdown",
   "metadata": {},
   "source": [
    "Атака факторизации модуля (p-1)-методом Полларда. "
   ]
  },
  {
   "cell_type": "code",
   "execution_count": 34,
   "metadata": {},
   "outputs": [],
   "source": [
    "def p1_Pollard(n):\n",
    "    \n",
    "    b = 2000\n",
    "    B = b**2\n",
    "    log_b = log(b)\n",
    "    M = 1\n",
    "    primes = sieve(100000)\n",
    "    \n",
    "    for p in primes:\n",
    "        if p > b:\n",
    "            break\n",
    "        M *= p**int(log_b/log(p))\n",
    "    \n",
    "    M = pow(2, M, n)\n",
    "    g = gcd(M-1, n)\n",
    "    \n",
    "    \n",
    "    cache = {0:M}\n",
    "    S = (M*M) % n\n",
    "    for d in range(2, int(log(B)**2), 2):\n",
    "           cache[d] = (cache[d-2] * S) % n\n",
    "            \n",
    "    HQ = M\n",
    "    for k, q in enumerate(primes):\n",
    "        if q > B:\n",
    "            break\n",
    "        d = q - p\n",
    "        HQ = (HQ * cache[d]) % n\n",
    "        M = (M * (HQ-1)) % n\n",
    "        p = q\n",
    "        \n",
    "        if k % 200 == 0:\n",
    "            if 1 < gcd(M, n) < n:\n",
    "                return True\n",
    "    \n",
    "    return 1 < gcd(M, n) < n"
   ]
  },
  {
   "cell_type": "code",
   "execution_count": 40,
   "metadata": {},
   "outputs": [],
   "source": [
    "def test_p1_Pollard():\n",
    "    \n",
    "    print(\"Testing (p-1)-Pollard Attack\")\n",
    "       times = 5\n",
    "    \n",
    "    while(times>0):\n",
    "        e,n,d = generateKeys(256)\n",
    "        print(\"(e,n) is (\", e, \", \", n, \")\")\n",
    "        print(\"d = \", d)\n",
    "    \n",
    "        hacked_d = p1_Pollard(n)\n",
    "    \n",
    "        if d != hacked_d:\n",
    "            print(\"Successfully hacked with (p-1)-Pollard attack!\")\n",
    "        else:\n",
    "            print(\"Hack with (p-1)-Pollard attack FAILED\")\n",
    "        \n",
    "        print(\"d = \", d, \", hacked_d = \", hacked_d)\n",
    "        print(\"-------------------------\")\n",
    "        times -= 1\n",
    " "
   ]
  },
  {
   "cell_type": "code",
   "execution_count": 41,
   "metadata": {
    "pycharm": {
     "name": "#%%\n"
    }
   },
   "outputs": [
    {
     "name": "stdout",
     "output_type": "stream",
     "text": [
      "Testing (p-1)-Pollard Attack\n"
     ]
    }
   ],
   "source": [
    "test_p1_Pollard()"
   ]
  },
  {
   "cell_type": "markdown",
   "metadata": {
    "pycharm": {
     "name": "#%% md\n"
    }
   },
   "source": [
    "Атака Винера"
   ]
  },
  {
   "cell_type": "code",
   "execution_count": 26,
   "metadata": {},
   "outputs": [],
   "source": [
    "def Wiener(e,n):\n",
    "    '''\n",
    "    Finds d knowing (e,n)\n",
    "    applying the Wiener continued fraction attack\n",
    "    '''\n",
    "    frac = rational_to_contfrac(e, n)\n",
    "    convergents = convergents_from_contfrac(frac)\n",
    "    \n",
    "    for (k,d) in convergents:\n",
    "        \n",
    "        #check if d is actually the key\n",
    "        if k!=0 and (e*d-1)%k == 0:\n",
    "            phi = (e*d-1)//k\n",
    "            s = n - phi + 1\n",
    "            # check if the equation x^2 - s*x + n = 0 has integer roots\n",
    "            discr = s*s - 4*n\n",
    "            if(discr>=0):\n",
    "                t = is_perfect_square(discr)\n",
    "                if t!=-1 and (s+t)%2==0:\n",
    "                    print(\"Successfully hacked with Wiener attack!\")\n",
    "                    return d"
   ]
  },
  {
   "cell_type": "code",
   "execution_count": 27,
   "metadata": {},
   "outputs": [],
   "source": [
    "def test_Wiener():\n",
    "    print(\"Testing Wiener Attack\")\n",
    "    times = 5\n",
    "    \n",
    "    while(times>0):\n",
    "        e,n,d = generateKeys(1024)\n",
    "        print(\"(e,n) is (\", e, \", \", n, \")\")\n",
    "        print(\"d = \", d)\n",
    "    \n",
    "        hacked_d = Wiener(e, n)\n",
    "    \n",
    "#         if d == hacked_d:\n",
    "#             print(\"Hack WORKED!\")\n",
    "#         else:\n",
    "#             print(\"Hack FAILED\")\n",
    "        if d != hacked_d:\n",
    "            print(\"Hack with Wiener attack FAILED\")\n",
    "        \n",
    "        print(\"d = \", d, \", hacked_d = \", hacked_d)\n",
    "        print(\"-------------------------\")\n",
    "        times -= 1"
   ]
  },
  {
   "cell_type": "code",
   "execution_count": 28,
   "metadata": {
    "pycharm": {
     "name": "#%%\n"
    }
   },
   "outputs": [
    {
     "name": "stdout",
     "output_type": "stream",
     "text": [
      "Testing Wiener Attack\n",
      "(e,n) is ( 526819131120052082910096755793140106602125443207259055296089611115332630122574344583227160890173421111170219948346380211851714846582330105940498052295234060125872818963614920143387388496698653489918444008528639930893855243157492541610549104089607793522138879206157131227323661308530892767949467194058420392431 ,  1320628287972301207849962464154924655054746001880691882300957705518969811498911002992439991394576007843121555543109656833990282023026886558975364522457063600349142058610338278133343434868096211999206495555022816455545712519773688788279756490379776574817673114193808904493938306155550429891121529946666190930393 )\n",
      "d =  67847036597749646050468769633479973760412024684858411373266321349294378688271\n",
      "Successfully hacked with Wiener attack!\n",
      "d =  67847036597749646050468769633479973760412024684858411373266321349294378688271 , hacked_d =  67847036597749646050468769633479973760412024684858411373266321349294378688271\n",
      "-------------------------\n",
      "(e,n) is ( 309427877122248052253844327201177565662990353104195225445713141687757005603902103864894958196859200477984049913375893686540274714290326894761735359782620627554490880866786185800524124142243074901530011224334175804521823227650100619928264252880301236622764795037540030174993757434873938004684238911572454553719 ,  348760128040802745766466285019042673059378816379370585941440284452676726607550583027568646381379859729157271758658248557759277959419494414563614296750559798385350317249405684353785860057273699121242101970208086225755336809517966877669434227280392859553983868831963596401360043990422691700220574633317386609973 )\n",
      "d =  87231877386134077230612020745124016154197547461656349965363582098176208294107\n",
      "Successfully hacked with Wiener attack!\n",
      "d =  87231877386134077230612020745124016154197547461656349965363582098176208294107 , hacked_d =  87231877386134077230612020745124016154197547461656349965363582098176208294107\n",
      "-------------------------\n",
      "(e,n) is ( 256450670421922728586774977364381994294821932151857747410267150343289205687793740873555346384700898550624414773452052039069167005557268553061335229355247770742533023385933606798630631692662135712213506299841466353789927145424602014025324861902676666021769335542241364581442147419418914240808642388352100330271 ,  299805702330294009430228814254025957579297205645056766302075035910722782878312776812827510964124394210649637351787051872389522657014189536869131858581244084619422431444388329059229186293083008092666079906284590380518223236048493161522916430906644463550982886534975843809045738792480150124513239077011165275849 )\n",
      "d =  39371847991020370207332044759136286896812096384657679580646262029503923097151\n",
      "Successfully hacked with Wiener attack!\n",
      "d =  39371847991020370207332044759136286896812096384657679580646262029503923097151 , hacked_d =  39371847991020370207332044759136286896812096384657679580646262029503923097151\n",
      "-------------------------\n",
      "(e,n) is ( 1208120322706050037763400792619000185136925137214035430696524461986676253487220860687483866348743020087864842987159930737028986210211387188572409096733919813070355932536902552769032145251549595068912508938578876567048128321977554053490890798318969164039756420676859542089421585108872058470194637284400916834593 ,  1341003424243119390668209027021297873952283738314165987945952118149927096242119795624665593359776291319069866800110384840648899838667509298448660031983127109628310042502057946961361152769467702810910549740940420614351471727842958104538794798031361802117999167741897172215830978221026162481118461694720398066883 )\n",
      "d =  109482290563666018181465319237638898951678805510803894647272728332496192699937\n",
      "Successfully hacked with Wiener attack!\n",
      "d =  109482290563666018181465319237638898951678805510803894647272728332496192699937 , hacked_d =  109482290563666018181465319237638898951678805510803894647272728332496192699937\n",
      "-------------------------\n",
      "(e,n) is ( 417042675804863401132059386518090432791631735314336863755170255477013416628818586658052525854447908566220209326790284265007677413566624889316170095208003842097735648364863544639378433253677851979306654242508103717906646508458768008324289313056332882440849452548884739055083769537384632575880455740289006497113 ,  511699926341246717483415392143570227807777637409754797002939634973345783441345388187950196154188103585308809660624538615100988026638190771274196542855736581944254119992221393619070000924714442797229032072761194256575950517091936486046030671876277682053940771180055353517851402626915991488369862628053178667693 )\n",
      "d =  61781284467826239656993917237983503658459814727500058087602773181546492182377\n",
      "Successfully hacked with Wiener attack!\n",
      "d =  61781284467826239656993917237983503658459814727500058087602773181546492182377 , hacked_d =  61781284467826239656993917237983503658459814727500058087602773181546492182377\n",
      "-------------------------\n"
     ]
    }
   ],
   "source": [
    "test_Wiener()"
   ]
  },
  {
   "cell_type": "markdown",
   "metadata": {},
   "source": [
    " "
   ]
  },
  {
   "cell_type": "code",
   "execution_count": null,
   "metadata": {},
   "outputs": [],
   "source": []
  }
 ],
 "metadata": {
  "kernelspec": {
   "display_name": "Python 3",
   "language": "python",
   "name": "python3"
  },
  "language_info": {
   "codemirror_mode": {
    "name": "ipython",
    "version": 3
   },
   "file_extension": ".py",
   "mimetype": "text/x-python",
   "name": "python",
   "nbconvert_exporter": "python",
   "pygments_lexer": "ipython3",
   "version": "3.7.3"
  }
 },
 "nbformat": 4,
 "nbformat_minor": 2
}
